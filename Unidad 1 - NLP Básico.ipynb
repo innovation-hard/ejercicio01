{
 "cells": [
  {
   "cell_type": "markdown",
   "metadata": {
    "id": "KQbyTqAx_OPn"
   },
   "source": [
    "![coderhouse-logo.png](data:image/png;base64,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)"
   ]
  },
  {
   "cell_type": "markdown",
   "metadata": {
    "id": "9z8sFcrk9SgK"
   },
   "source": [
    "# Carga de datos\n",
    "Utilizamos un conjunto de datos de alrededor de 37000 reseñas de videos de Amazon Instant Video y 1700000 reseñas de películas y programas de televisión, todas obtenidas del sitio web: http://jmcauley.ucsd.edu/data/amazon/. Tenga en cuenta que hay conjuntos de datos mucho más grandes disponibles en el mismo sitio. Podemos esperar resultados mejores y más consistentes en conjuntos de datos más grandes (como reseñas de libros). Tenga en cuenta que estos conjuntos de datos están comprimidos (gzip) y están en formato JSON, cada línea representa una revisión y cada línea es su propio objeto JSON.\n",
    "\n",
    "Comenzamos cargando el conjunto de datos a continuación:"
   ]
  },
  {
   "cell_type": "code",
   "execution_count": 4,
   "metadata": {
    "colab": {
     "base_uri": "https://localhost:8080/"
    },
    "executionInfo": {
     "elapsed": 3846,
     "status": "ok",
     "timestamp": 1677621450880,
     "user": {
      "displayName": "Luis Ignacio Russo Locati",
      "userId": "15672299700269598283"
     },
     "user_tz": 180
    },
    "id": "1IjjcIro8llL",
    "outputId": "e34a404d-add5-461d-c81f-13d9f7ee40be"
   },
   "outputs": [
    {
     "name": "stdout",
     "output_type": "stream",
     "text": [
      "CPU times: total: 641 ms\n",
      "Wall time: 662 ms\n"
     ]
    },
    {
     "name": "stderr",
     "output_type": "stream",
     "text": [
      "[nltk_data] Downloading package punkt to\n",
      "[nltk_data]     C:\\Users\\jorge\\AppData\\Roaming\\nltk_data...\n",
      "[nltk_data]   Package punkt is already up-to-date!\n"
     ]
    }
   ],
   "source": [
    "%%time\n",
    "import gzip\n",
    "import json\n",
    "import string\n",
    "\n",
    "import nltk # imports the natural language toolkit\n",
    "import pandas as pd\n",
    "import plotly\n",
    "\n",
    "nltk.download('punkt')\n",
    "\n",
    "import os"
   ]
  },
  {
   "cell_type": "markdown",
   "metadata": {},
   "source": [
    "```python\n",
    "from google.colab import drive\n",
    "import os\n",
    "drive.mount('/content/gdrive')\n",
    "# Establecer ruta de acceso en dr\n",
    "import os\n",
    "print(os.getcwd())\n",
    "os.chdir(\"/content/gdrive/My Drive\")\n",
    "```"
   ]
  },
  {
   "cell_type": "code",
   "execution_count": 5,
   "metadata": {
    "id": "oyLe8mZXA_s7"
   },
   "outputs": [],
   "source": [
    "os.getcwd()\n",
    "instant_video = pd.read_json(\"reviews_Amazon_Instant_Video_5.json.gz\", lines=True, compression='gzip')"
   ]
  },
  {
   "cell_type": "code",
   "execution_count": 6,
   "metadata": {
    "colab": {
     "base_uri": "https://localhost:8080/",
     "height": 337
    },
    "executionInfo": {
     "elapsed": 5,
     "status": "ok",
     "timestamp": 1677621477316,
     "user": {
      "displayName": "Luis Ignacio Russo Locati",
      "userId": "15672299700269598283"
     },
     "user_tz": 180
    },
    "id": "Qio5M9GIByE9",
    "outputId": "81325f2b-0956-4050-858b-7d6e55ccf26d"
   },
   "outputs": [
    {
     "data": {
      "text/html": [
       "<div>\n",
       "<style scoped>\n",
       "    .dataframe tbody tr th:only-of-type {\n",
       "        vertical-align: middle;\n",
       "    }\n",
       "\n",
       "    .dataframe tbody tr th {\n",
       "        vertical-align: top;\n",
       "    }\n",
       "\n",
       "    .dataframe thead th {\n",
       "        text-align: right;\n",
       "    }\n",
       "</style>\n",
       "<table border=\"1\" class=\"dataframe\">\n",
       "  <thead>\n",
       "    <tr style=\"text-align: right;\">\n",
       "      <th></th>\n",
       "      <th>reviewerID</th>\n",
       "      <th>asin</th>\n",
       "      <th>reviewerName</th>\n",
       "      <th>helpful</th>\n",
       "      <th>reviewText</th>\n",
       "      <th>overall</th>\n",
       "      <th>summary</th>\n",
       "      <th>unixReviewTime</th>\n",
       "      <th>reviewTime</th>\n",
       "    </tr>\n",
       "  </thead>\n",
       "  <tbody>\n",
       "    <tr>\n",
       "      <th>0</th>\n",
       "      <td>A11N155CW1UV02</td>\n",
       "      <td>B000H00VBQ</td>\n",
       "      <td>AdrianaM</td>\n",
       "      <td>[0, 0]</td>\n",
       "      <td>I had big expectations because I love English ...</td>\n",
       "      <td>2</td>\n",
       "      <td>A little bit boring for me</td>\n",
       "      <td>1399075200</td>\n",
       "      <td>05 3, 2014</td>\n",
       "    </tr>\n",
       "    <tr>\n",
       "      <th>1</th>\n",
       "      <td>A3BC8O2KCL29V2</td>\n",
       "      <td>B000H00VBQ</td>\n",
       "      <td>Carol T</td>\n",
       "      <td>[0, 0]</td>\n",
       "      <td>I highly recommend this series. It is a must f...</td>\n",
       "      <td>5</td>\n",
       "      <td>Excellent Grown Up TV</td>\n",
       "      <td>1346630400</td>\n",
       "      <td>09 3, 2012</td>\n",
       "    </tr>\n",
       "    <tr>\n",
       "      <th>2</th>\n",
       "      <td>A60D5HQFOTSOM</td>\n",
       "      <td>B000H00VBQ</td>\n",
       "      <td>Daniel Cooper \"dancoopermedia\"</td>\n",
       "      <td>[0, 1]</td>\n",
       "      <td>This one is a real snoozer. Don't believe anyt...</td>\n",
       "      <td>1</td>\n",
       "      <td>Way too boring for me</td>\n",
       "      <td>1381881600</td>\n",
       "      <td>10 16, 2013</td>\n",
       "    </tr>\n",
       "    <tr>\n",
       "      <th>3</th>\n",
       "      <td>A1RJPIGRSNX4PW</td>\n",
       "      <td>B000H00VBQ</td>\n",
       "      <td>J. Kaplan \"JJ\"</td>\n",
       "      <td>[0, 0]</td>\n",
       "      <td>Mysteries are interesting.  The tension betwee...</td>\n",
       "      <td>4</td>\n",
       "      <td>Robson Green is mesmerizing</td>\n",
       "      <td>1383091200</td>\n",
       "      <td>10 30, 2013</td>\n",
       "    </tr>\n",
       "    <tr>\n",
       "      <th>4</th>\n",
       "      <td>A16XRPF40679KG</td>\n",
       "      <td>B000H00VBQ</td>\n",
       "      <td>Michael Dobey</td>\n",
       "      <td>[1, 1]</td>\n",
       "      <td>This show always is excellent, as far as briti...</td>\n",
       "      <td>5</td>\n",
       "      <td>Robson green and great writing</td>\n",
       "      <td>1234310400</td>\n",
       "      <td>02 11, 2009</td>\n",
       "    </tr>\n",
       "  </tbody>\n",
       "</table>\n",
       "</div>"
      ],
      "text/plain": [
       "       reviewerID        asin                    reviewerName helpful  \\\n",
       "0  A11N155CW1UV02  B000H00VBQ                        AdrianaM  [0, 0]   \n",
       "1  A3BC8O2KCL29V2  B000H00VBQ                         Carol T  [0, 0]   \n",
       "2   A60D5HQFOTSOM  B000H00VBQ  Daniel Cooper \"dancoopermedia\"  [0, 1]   \n",
       "3  A1RJPIGRSNX4PW  B000H00VBQ                  J. Kaplan \"JJ\"  [0, 0]   \n",
       "4  A16XRPF40679KG  B000H00VBQ                   Michael Dobey  [1, 1]   \n",
       "\n",
       "                                          reviewText  overall  \\\n",
       "0  I had big expectations because I love English ...        2   \n",
       "1  I highly recommend this series. It is a must f...        5   \n",
       "2  This one is a real snoozer. Don't believe anyt...        1   \n",
       "3  Mysteries are interesting.  The tension betwee...        4   \n",
       "4  This show always is excellent, as far as briti...        5   \n",
       "\n",
       "                          summary  unixReviewTime   reviewTime  \n",
       "0      A little bit boring for me      1399075200   05 3, 2014  \n",
       "1           Excellent Grown Up TV      1346630400   09 3, 2012  \n",
       "2           Way too boring for me      1381881600  10 16, 2013  \n",
       "3     Robson Green is mesmerizing      1383091200  10 30, 2013  \n",
       "4  Robson green and great writing      1234310400  02 11, 2009  "
      ]
     },
     "execution_count": 6,
     "metadata": {},
     "output_type": "execute_result"
    }
   ],
   "source": [
    "type(instant_video)\n",
    "instant_video.head()"
   ]
  },
  {
   "cell_type": "markdown",
   "metadata": {
    "id": "BT4kft-G-sNB"
   },
   "source": [
    "**Problema de negocio**. Su tarea principal es explorar los datos proporcionados y utilizar los resultados de su investigación para diseñar funciones relevantes que podrían facilitar el análisis posterior y la creación de modelos."
   ]
  },
  {
   "cell_type": "code",
   "execution_count": 8,
   "metadata": {
    "colab": {
     "base_uri": "https://localhost:8080/"
    },
    "executionInfo": {
     "elapsed": 5638,
     "status": "ok",
     "timestamp": 1677621482950,
     "user": {
      "displayName": "Luis Ignacio Russo Locati",
      "userId": "15672299700269598283"
     },
     "user_tz": 180
    },
    "id": "mzjtEIDX9gwg",
    "outputId": "d435b05b-33ae-4a72-88c6-ad160bbc9c1f"
   },
   "outputs": [
    {
     "name": "stdout",
     "output_type": "stream",
     "text": [
      "CPU times: total: 797 ms\n",
      "Wall time: 813 ms\n"
     ]
    }
   ],
   "source": [
    "%%time\n",
    "# podemos decirle a pandas que nuestro archivo esta en formato gzip y realizara el proceso de descompresion \n",
    "# para esto usamos el atributo `lines=True` para indicar que cada linea en el archivo tiene su propio JSON object\n",
    "#instant_video = pd.read_json(\"reviews_Amazon_Instant_Video_5.json.gz\", lines=True, compression='gzip')\n",
    "# ----------\n",
    "# El archivo Películas y TV es muy grande. Si tienes problemas para cargarlo, puedes cargar solo los primeros\n",
    "# 100,000 reseñas usando 'chunksize' (elimine el comentario de la línea con 'chunksize' y comente la línea\n",
    "# después de lo que carga el archivo completo en `movies_tv`). Todo el análisis puede ser\n",
    "# hecho de la misma manera utilizando solo el subconjunto de revisiones, pero algunos de los resultados pueden ser diferentes de los ejemplos.\n",
    "# ----------\n",
    "movies_tv = next(pd.read_json(\"reviews_Amazon_Instant_Video_5.json.gz\", lines=True, compression='gzip', chunksize=100000))\n",
    "#movies_tv = pd.read_json(\"reviews_Movies_and_TV_5.json.gz\", lines=True, compression='gzip')"
   ]
  },
  {
   "cell_type": "markdown",
   "metadata": {
    "id": "AwZQU09h-Z1a"
   },
   "source": [
    "Miremos algunos de los atributos\n",
    "\n",
    "* **reviewerID:** A unique ID to identify the author of the review.\n",
    "* **asin:** The [\"Amazon Standard Identification Number\"](https://www.amazon.com/gp/seller/asin-upc-isbn-info.html) which provides more information about the exact product and version.\n",
    "* **reviewerName:** The username chosen by the reviewer.\n",
    "* **helpful:** A record of how many users indicated that the review was helpful/not helpful.\n",
    "* **reviewText:** The full text of the review.\n",
    "* **overall:** The overall rating (1-5) left by the reviewer.\n",
    "* **summary:** A short version of the review, used as the title.\n",
    "* **unixReviewTime:** The date that the review was created, in [Unix Epoch](https://en.wikipedia.org/wiki/Unix_time) format.\n",
    "* **reviewTime:** A human readable date giving the day, month, and year."
   ]
  },
  {
   "cell_type": "code",
   "execution_count": 9,
   "metadata": {
    "colab": {
     "base_uri": "https://localhost:8080/"
    },
    "executionInfo": {
     "elapsed": 6,
     "status": "ok",
     "timestamp": 1677621482951,
     "user": {
      "displayName": "Luis Ignacio Russo Locati",
      "userId": "15672299700269598283"
     },
     "user_tz": 180
    },
    "id": "ByH1x0pE-hb5",
    "outputId": "bdee21a8-5e6d-4b90-e65e-9273e9efa166"
   },
   "outputs": [
    {
     "name": "stdout",
     "output_type": "stream",
     "text": [
      "37126\n",
      "       reviewerID        asin                    reviewerName helpful  \\\n",
      "0  A11N155CW1UV02  B000H00VBQ                        AdrianaM  [0, 0]   \n",
      "1  A3BC8O2KCL29V2  B000H00VBQ                         Carol T  [0, 0]   \n",
      "2   A60D5HQFOTSOM  B000H00VBQ  Daniel Cooper \"dancoopermedia\"  [0, 1]   \n",
      "3  A1RJPIGRSNX4PW  B000H00VBQ                  J. Kaplan \"JJ\"  [0, 0]   \n",
      "4  A16XRPF40679KG  B000H00VBQ                   Michael Dobey  [1, 1]   \n",
      "\n",
      "                                          reviewText  overall  \\\n",
      "0  I had big expectations because I love English ...        2   \n",
      "1  I highly recommend this series. It is a must f...        5   \n",
      "2  This one is a real snoozer. Don't believe anyt...        1   \n",
      "3  Mysteries are interesting.  The tension betwee...        4   \n",
      "4  This show always is excellent, as far as briti...        5   \n",
      "\n",
      "                          summary  unixReviewTime   reviewTime  \n",
      "0      A little bit boring for me      1399075200   05 3, 2014  \n",
      "1           Excellent Grown Up TV      1346630400   09 3, 2012  \n",
      "2           Way too boring for me      1381881600  10 16, 2013  \n",
      "3     Robson Green is mesmerizing      1383091200  10 30, 2013  \n",
      "4  Robson green and great writing      1234310400  02 11, 2009  \n"
     ]
    }
   ],
   "source": [
    "print(len(instant_video))\n",
    "print(instant_video.head(5))"
   ]
  },
  {
   "cell_type": "code",
   "execution_count": 10,
   "metadata": {
    "colab": {
     "base_uri": "https://localhost:8080/"
    },
    "executionInfo": {
     "elapsed": 4,
     "status": "ok",
     "timestamp": 1677621482951,
     "user": {
      "displayName": "Luis Ignacio Russo Locati",
      "userId": "15672299700269598283"
     },
     "user_tz": 180
    },
    "id": "Glaioy9B-mWY",
    "outputId": "9c0eb3f5-8ba4-475a-f075-d2f1eaa17235"
   },
   "outputs": [
    {
     "name": "stdout",
     "output_type": "stream",
     "text": [
      "37126\n",
      "       reviewerID        asin                    reviewerName helpful  \\\n",
      "0  A11N155CW1UV02  B000H00VBQ                        AdrianaM  [0, 0]   \n",
      "1  A3BC8O2KCL29V2  B000H00VBQ                         Carol T  [0, 0]   \n",
      "2   A60D5HQFOTSOM  B000H00VBQ  Daniel Cooper \"dancoopermedia\"  [0, 1]   \n",
      "3  A1RJPIGRSNX4PW  B000H00VBQ                  J. Kaplan \"JJ\"  [0, 0]   \n",
      "4  A16XRPF40679KG  B000H00VBQ                   Michael Dobey  [1, 1]   \n",
      "\n",
      "                                          reviewText  overall  \\\n",
      "0  I had big expectations because I love English ...        2   \n",
      "1  I highly recommend this series. It is a must f...        5   \n",
      "2  This one is a real snoozer. Don't believe anyt...        1   \n",
      "3  Mysteries are interesting.  The tension betwee...        4   \n",
      "4  This show always is excellent, as far as briti...        5   \n",
      "\n",
      "                          summary  unixReviewTime   reviewTime  \n",
      "0      A little bit boring for me      1399075200   05 3, 2014  \n",
      "1           Excellent Grown Up TV      1346630400   09 3, 2012  \n",
      "2           Way too boring for me      1381881600  10 16, 2013  \n",
      "3     Robson Green is mesmerizing      1383091200  10 30, 2013  \n",
      "4  Robson green and great writing      1234310400  02 11, 2009  \n"
     ]
    }
   ],
   "source": [
    "print(len(movies_tv))\n",
    "print(movies_tv.head(5))"
   ]
  },
  {
   "cell_type": "markdown",
   "metadata": {
    "id": "VqreOvOL-2BJ"
   },
   "source": [
    "Notamos que `movies_tv` es extremadamente larga con casi 2 millones de reseñas, y varias columnas parecen poco interesantes o difíciles de trabajar (por ejemplo, `reviewerID`, `asin`, `reviewername`, `reviewtime`). Dejamos caer alguna información para hacer que algunos de nuestros análisis posteriores sean más eficientes. También agregamos una columna de fecha y hora con objetos de fecha y hora de Python para resumir más fácilmente los datos:\n",
    "\n",
    "Comenzamos cargando el conjunto de datos a continuación:"
   ]
  },
  {
   "cell_type": "code",
   "execution_count": 11,
   "metadata": {
    "colab": {
     "base_uri": "https://localhost:8080/"
    },
    "executionInfo": {
     "elapsed": 550,
     "status": "ok",
     "timestamp": 1677621483499,
     "user": {
      "displayName": "Luis Ignacio Russo Locati",
      "userId": "15672299700269598283"
     },
     "user_tz": 180
    },
    "id": "ZmrJ6EYg-7cM",
    "outputId": "c7e6e07e-6a4b-4df1-de9a-0fb54e47c137"
   },
   "outputs": [
    {
     "name": "stdout",
     "output_type": "stream",
     "text": [
      "CPU times: total: 453 ms\n",
      "Wall time: 592 ms\n"
     ]
    }
   ],
   "source": [
    "%%time\n",
    "movies_tv['datetime'] = pd.to_datetime(movies_tv['reviewTime'], format=\"%m %d, %Y\")\n",
    "instant_video['datetime'] = pd.to_datetime(instant_video['reviewTime'], format=\"%m %d, %Y\")"
   ]
  },
  {
   "cell_type": "code",
   "execution_count": 12,
   "metadata": {
    "colab": {
     "base_uri": "https://localhost:8080/",
     "height": 206
    },
    "executionInfo": {
     "elapsed": 7,
     "status": "ok",
     "timestamp": 1677621483499,
     "user": {
      "displayName": "Luis Ignacio Russo Locati",
      "userId": "15672299700269598283"
     },
     "user_tz": 180
    },
    "id": "NHryCwKF-82E",
    "outputId": "cd0bb8b9-f7f1-4c2a-b235-3dc61ba61cba"
   },
   "outputs": [
    {
     "data": {
      "text/html": [
       "<div>\n",
       "<style scoped>\n",
       "    .dataframe tbody tr th:only-of-type {\n",
       "        vertical-align: middle;\n",
       "    }\n",
       "\n",
       "    .dataframe tbody tr th {\n",
       "        vertical-align: top;\n",
       "    }\n",
       "\n",
       "    .dataframe thead th {\n",
       "        text-align: right;\n",
       "    }\n",
       "</style>\n",
       "<table border=\"1\" class=\"dataframe\">\n",
       "  <thead>\n",
       "    <tr style=\"text-align: right;\">\n",
       "      <th></th>\n",
       "      <th>helpful</th>\n",
       "      <th>reviewText</th>\n",
       "      <th>overall</th>\n",
       "      <th>summary</th>\n",
       "      <th>unixReviewTime</th>\n",
       "      <th>datetime</th>\n",
       "    </tr>\n",
       "  </thead>\n",
       "  <tbody>\n",
       "    <tr>\n",
       "      <th>0</th>\n",
       "      <td>[0, 0]</td>\n",
       "      <td>I had big expectations because I love English ...</td>\n",
       "      <td>2</td>\n",
       "      <td>A little bit boring for me</td>\n",
       "      <td>1399075200</td>\n",
       "      <td>2014-05-03</td>\n",
       "    </tr>\n",
       "    <tr>\n",
       "      <th>1</th>\n",
       "      <td>[0, 0]</td>\n",
       "      <td>I highly recommend this series. It is a must f...</td>\n",
       "      <td>5</td>\n",
       "      <td>Excellent Grown Up TV</td>\n",
       "      <td>1346630400</td>\n",
       "      <td>2012-09-03</td>\n",
       "    </tr>\n",
       "    <tr>\n",
       "      <th>2</th>\n",
       "      <td>[0, 1]</td>\n",
       "      <td>This one is a real snoozer. Don't believe anyt...</td>\n",
       "      <td>1</td>\n",
       "      <td>Way too boring for me</td>\n",
       "      <td>1381881600</td>\n",
       "      <td>2013-10-16</td>\n",
       "    </tr>\n",
       "    <tr>\n",
       "      <th>3</th>\n",
       "      <td>[0, 0]</td>\n",
       "      <td>Mysteries are interesting.  The tension betwee...</td>\n",
       "      <td>4</td>\n",
       "      <td>Robson Green is mesmerizing</td>\n",
       "      <td>1383091200</td>\n",
       "      <td>2013-10-30</td>\n",
       "    </tr>\n",
       "    <tr>\n",
       "      <th>4</th>\n",
       "      <td>[1, 1]</td>\n",
       "      <td>This show always is excellent, as far as briti...</td>\n",
       "      <td>5</td>\n",
       "      <td>Robson green and great writing</td>\n",
       "      <td>1234310400</td>\n",
       "      <td>2009-02-11</td>\n",
       "    </tr>\n",
       "  </tbody>\n",
       "</table>\n",
       "</div>"
      ],
      "text/plain": [
       "  helpful                                         reviewText  overall  \\\n",
       "0  [0, 0]  I had big expectations because I love English ...        2   \n",
       "1  [0, 0]  I highly recommend this series. It is a must f...        5   \n",
       "2  [0, 1]  This one is a real snoozer. Don't believe anyt...        1   \n",
       "3  [0, 0]  Mysteries are interesting.  The tension betwee...        4   \n",
       "4  [1, 1]  This show always is excellent, as far as briti...        5   \n",
       "\n",
       "                          summary  unixReviewTime   datetime  \n",
       "0      A little bit boring for me      1399075200 2014-05-03  \n",
       "1           Excellent Grown Up TV      1346630400 2012-09-03  \n",
       "2           Way too boring for me      1381881600 2013-10-16  \n",
       "3     Robson Green is mesmerizing      1383091200 2013-10-30  \n",
       "4  Robson green and great writing      1234310400 2009-02-11  "
      ]
     },
     "execution_count": 12,
     "metadata": {},
     "output_type": "execute_result"
    }
   ],
   "source": [
    "movies_tv = movies_tv.drop(columns = ['reviewerID', 'asin', 'reviewerName', 'reviewTime'])\n",
    "instant_video = instant_video.drop(columns = ['reviewerID', 'asin', 'reviewerName', 'reviewTime'])\n",
    "\n",
    "movies_tv.head(5)"
   ]
  },
  {
   "cell_type": "code",
   "execution_count": 13,
   "metadata": {
    "colab": {
     "base_uri": "https://localhost:8080/"
    },
    "executionInfo": {
     "elapsed": 7,
     "status": "ok",
     "timestamp": 1677621483500,
     "user": {
      "displayName": "Luis Ignacio Russo Locati",
      "userId": "15672299700269598283"
     },
     "user_tz": 180
    },
    "id": "XSuJxSUPGlrh",
    "outputId": "6a1d0795-63ab-437a-e364-9fa7a6e178cf"
   },
   "outputs": [
    {
     "data": {
      "text/plain": [
       "datetime\n",
       "2014-02-10    292\n",
       "2014-01-28    259\n",
       "2014-02-08    257\n",
       "2014-02-09    226\n",
       "2014-02-15    211\n",
       "2014-03-25    210\n",
       "2014-02-18    206\n",
       "2014-02-07    199\n",
       "2014-01-16    188\n",
       "2014-02-06    187\n",
       "2014-02-13    176\n",
       "2013-04-19    173\n",
       "2014-02-12    172\n",
       "2014-04-02    171\n",
       "2014-01-08    161\n",
       "2014-03-06    157\n",
       "2014-02-20    157\n",
       "2014-02-11    156\n",
       "2013-04-24    154\n",
       "2013-11-03    152\n",
       "Name: count, dtype: int64"
      ]
     },
     "execution_count": 13,
     "metadata": {},
     "output_type": "execute_result"
    }
   ],
   "source": [
    "movies_tv.datetime.value_counts().head(20)"
   ]
  },
  {
   "cell_type": "code",
   "execution_count": 15,
   "metadata": {
    "colab": {
     "base_uri": "https://localhost:8080/",
     "height": 282
    },
    "executionInfo": {
     "elapsed": 393,
     "status": "ok",
     "timestamp": 1677621483888,
     "user": {
      "displayName": "Luis Ignacio Russo Locati",
      "userId": "15672299700269598283"
     },
     "user_tz": 180
    },
    "id": "LspxvUDFHS0_",
    "outputId": "0b4d3cb5-1d19-4513-b9ae-6cfd0b35dcb6"
   },
   "outputs": [
    {
     "data": {
      "text/plain": [
       "<Axes: >"
      ]
     },
     "execution_count": 15,
     "metadata": {},
     "output_type": "execute_result"
    },
    {
     "data": {
      "image/png": "[encoded data removed]",
      "text/plain": [
       "<Figure size 640x480 with 1 Axes>"
      ]
     },
     "metadata": {},
     "output_type": "display_data"
    }
   ],
   "source": [
    "movies_tv.datetime.dt.year.hist()"
   ]
  },
  {
   "cell_type": "markdown",
   "metadata": {
    "id": "Okb43V6p_CFA"
   },
   "source": [
    "# Histogramas de conteos"
   ]
  },
  {
   "cell_type": "code",
   "execution_count": 16,
   "metadata": {
    "colab": {
     "base_uri": "https://localhost:8080/",
     "height": 614
    },
    "executionInfo": {
     "elapsed": 1578,
     "status": "ok",
     "timestamp": 1677621485464,
     "user": {
      "displayName": "Luis Ignacio Russo Locati",
      "userId": "15672299700269598283"
     },
     "user_tz": 180
    },
    "id": "8HNi3Ay2_EU2",
    "outputId": "0fb1474a-e512-4405-ae53-f67cbf9bfc1e"
   },
   "outputs": [
    {
     "data": {
      "text/plain": [
       "array([[<Axes: title={'center': 'overall'}>,\n",
       "        <Axes: title={'center': 'unixReviewTime'}>],\n",
       "       [<Axes: title={'center': 'datetime'}>, <Axes: >]], dtype=object)"
      ]
     },
     "execution_count": 16,
     "metadata": {},
     "output_type": "execute_result"
    },
    {
     "data": {
      "image/png": "[encoded data removed]",
      "text/plain": [
       "<Figure size 640x480 with 4 Axes>"
      ]
     },
     "metadata": {},
     "output_type": "display_data"
    },
    {
     "data": {
      "image/png": "[encoded data removed]",
      "text/plain": [
       "<Figure size 640x480 with 4 Axes>"
      ]
     },
     "metadata": {},
     "output_type": "display_data"
    }
   ],
   "source": [
    "instant_video.hist()\n",
    "movies_tv.hist()"
   ]
  },
  {
   "cell_type": "markdown",
   "metadata": {
    "id": "db76Tx2O_Jyd"
   },
   "source": [
    "Notamos eso:\n",
    "\n",
    "1. La mayoría de las reseñas son buenas; de hecho, ¡más de la mitad son perfectas (5/5 estrellas) en ambos conjuntos de datos!\n",
    "2. Casi todas las revisiones de videos instantáneos son extremadamente recientes. Será muy difícil detectar tendencias sin corregir esto. Las reseñas de TV Movie están sustancialmente más dispersas (aunque también incluyen un pico reciente)."
   ]
  },
  {
   "cell_type": "code",
   "execution_count": 17,
   "metadata": {
    "colab": {
     "base_uri": "https://localhost:8080/",
     "height": 425
    },
    "executionInfo": {
     "elapsed": 7,
     "status": "ok",
     "timestamp": 1677621485465,
     "user": {
      "displayName": "Luis Ignacio Russo Locati",
      "userId": "15672299700269598283"
     },
     "user_tz": 180
    },
    "id": "4oq9eHguMh3t",
    "outputId": "4908781e-1660-4395-a85a-88233c8a5f6e"
   },
   "outputs": [
    {
     "data": {
      "text/html": [
       "<div>\n",
       "<style scoped>\n",
       "    .dataframe tbody tr th:only-of-type {\n",
       "        vertical-align: middle;\n",
       "    }\n",
       "\n",
       "    .dataframe tbody tr th {\n",
       "        vertical-align: top;\n",
       "    }\n",
       "\n",
       "    .dataframe thead th {\n",
       "        text-align: right;\n",
       "    }\n",
       "</style>\n",
       "<table border=\"1\" class=\"dataframe\">\n",
       "  <thead>\n",
       "    <tr style=\"text-align: right;\">\n",
       "      <th></th>\n",
       "      <th>overall</th>\n",
       "      <th>year</th>\n",
       "    </tr>\n",
       "    <tr>\n",
       "      <th>year</th>\n",
       "      <th></th>\n",
       "      <th></th>\n",
       "    </tr>\n",
       "  </thead>\n",
       "  <tbody>\n",
       "    <tr>\n",
       "      <th>2000</th>\n",
       "      <td>5.000000</td>\n",
       "      <td>1</td>\n",
       "    </tr>\n",
       "    <tr>\n",
       "      <th>2004</th>\n",
       "      <td>4.000000</td>\n",
       "      <td>1</td>\n",
       "    </tr>\n",
       "    <tr>\n",
       "      <th>2006</th>\n",
       "      <td>4.937500</td>\n",
       "      <td>16</td>\n",
       "    </tr>\n",
       "    <tr>\n",
       "      <th>2007</th>\n",
       "      <td>4.245763</td>\n",
       "      <td>118</td>\n",
       "    </tr>\n",
       "    <tr>\n",
       "      <th>2008</th>\n",
       "      <td>4.298701</td>\n",
       "      <td>231</td>\n",
       "    </tr>\n",
       "    <tr>\n",
       "      <th>2009</th>\n",
       "      <td>4.251381</td>\n",
       "      <td>362</td>\n",
       "    </tr>\n",
       "    <tr>\n",
       "      <th>2010</th>\n",
       "      <td>4.093085</td>\n",
       "      <td>376</td>\n",
       "    </tr>\n",
       "    <tr>\n",
       "      <th>2011</th>\n",
       "      <td>4.012414</td>\n",
       "      <td>725</td>\n",
       "    </tr>\n",
       "    <tr>\n",
       "      <th>2012</th>\n",
       "      <td>4.111845</td>\n",
       "      <td>2727</td>\n",
       "    </tr>\n",
       "    <tr>\n",
       "      <th>2013</th>\n",
       "      <td>4.251077</td>\n",
       "      <td>16019</td>\n",
       "    </tr>\n",
       "    <tr>\n",
       "      <th>2014</th>\n",
       "      <td>4.193535</td>\n",
       "      <td>16550</td>\n",
       "    </tr>\n",
       "  </tbody>\n",
       "</table>\n",
       "</div>"
      ],
      "text/plain": [
       "       overall   year\n",
       "year                 \n",
       "2000  5.000000      1\n",
       "2004  4.000000      1\n",
       "2006  4.937500     16\n",
       "2007  4.245763    118\n",
       "2008  4.298701    231\n",
       "2009  4.251381    362\n",
       "2010  4.093085    376\n",
       "2011  4.012414    725\n",
       "2012  4.111845   2727\n",
       "2013  4.251077  16019\n",
       "2014  4.193535  16550"
      ]
     },
     "execution_count": 17,
     "metadata": {},
     "output_type": "execute_result"
    }
   ],
   "source": [
    "instant_video['year'] = instant_video.datetime.dt.year\n",
    "instant_video.groupby(['year']).agg({'overall': 'mean', 'year': 'count'})"
   ]
  },
  {
   "cell_type": "code",
   "execution_count": 18,
   "metadata": {
    "colab": {
     "base_uri": "https://localhost:8080/",
     "height": 645
    },
    "executionInfo": {
     "elapsed": 6,
     "status": "ok",
     "timestamp": 1677621485465,
     "user": {
      "displayName": "Luis Ignacio Russo Locati",
      "userId": "15672299700269598283"
     },
     "user_tz": 180
    },
    "id": "KGlBh3EoQ8GY",
    "outputId": "de61cd6b-65c3-4491-c5e8-2a450ad87b54"
   },
   "outputs": [
    {
     "data": {
      "text/html": [
       "<div>\n",
       "<style scoped>\n",
       "    .dataframe tbody tr th:only-of-type {\n",
       "        vertical-align: middle;\n",
       "    }\n",
       "\n",
       "    .dataframe tbody tr th {\n",
       "        vertical-align: top;\n",
       "    }\n",
       "\n",
       "    .dataframe thead th {\n",
       "        text-align: right;\n",
       "    }\n",
       "</style>\n",
       "<table border=\"1\" class=\"dataframe\">\n",
       "  <thead>\n",
       "    <tr style=\"text-align: right;\">\n",
       "      <th></th>\n",
       "      <th>overall</th>\n",
       "      <th>year</th>\n",
       "    </tr>\n",
       "    <tr>\n",
       "      <th>year</th>\n",
       "      <th></th>\n",
       "      <th></th>\n",
       "    </tr>\n",
       "  </thead>\n",
       "  <tbody>\n",
       "    <tr>\n",
       "      <th>2000</th>\n",
       "      <td>5.000000</td>\n",
       "      <td>1</td>\n",
       "    </tr>\n",
       "    <tr>\n",
       "      <th>2004</th>\n",
       "      <td>4.000000</td>\n",
       "      <td>1</td>\n",
       "    </tr>\n",
       "    <tr>\n",
       "      <th>2006</th>\n",
       "      <td>4.937500</td>\n",
       "      <td>16</td>\n",
       "    </tr>\n",
       "    <tr>\n",
       "      <th>2007</th>\n",
       "      <td>4.245763</td>\n",
       "      <td>118</td>\n",
       "    </tr>\n",
       "    <tr>\n",
       "      <th>2008</th>\n",
       "      <td>4.298701</td>\n",
       "      <td>231</td>\n",
       "    </tr>\n",
       "    <tr>\n",
       "      <th>2009</th>\n",
       "      <td>4.251381</td>\n",
       "      <td>362</td>\n",
       "    </tr>\n",
       "    <tr>\n",
       "      <th>2010</th>\n",
       "      <td>4.093085</td>\n",
       "      <td>376</td>\n",
       "    </tr>\n",
       "    <tr>\n",
       "      <th>2011</th>\n",
       "      <td>4.012414</td>\n",
       "      <td>725</td>\n",
       "    </tr>\n",
       "    <tr>\n",
       "      <th>2012</th>\n",
       "      <td>4.111845</td>\n",
       "      <td>2727</td>\n",
       "    </tr>\n",
       "    <tr>\n",
       "      <th>2013</th>\n",
       "      <td>4.251077</td>\n",
       "      <td>16019</td>\n",
       "    </tr>\n",
       "    <tr>\n",
       "      <th>2014</th>\n",
       "      <td>4.193535</td>\n",
       "      <td>16550</td>\n",
       "    </tr>\n",
       "  </tbody>\n",
       "</table>\n",
       "</div>"
      ],
      "text/plain": [
       "       overall   year\n",
       "year                 \n",
       "2000  5.000000      1\n",
       "2004  4.000000      1\n",
       "2006  4.937500     16\n",
       "2007  4.245763    118\n",
       "2008  4.298701    231\n",
       "2009  4.251381    362\n",
       "2010  4.093085    376\n",
       "2011  4.012414    725\n",
       "2012  4.111845   2727\n",
       "2013  4.251077  16019\n",
       "2014  4.193535  16550"
      ]
     },
     "execution_count": 18,
     "metadata": {},
     "output_type": "execute_result"
    }
   ],
   "source": [
    "movies_tv['year'] = movies_tv.datetime.dt.year\n",
    "movies_tv.groupby(['year']).agg({'overall': 'mean', 'year': 'count'})"
   ]
  },
  {
   "cell_type": "markdown",
   "metadata": {
    "id": "z9LFFf6w_Q3d"
   },
   "source": [
    "# Promedio de ratings en el tiempo"
   ]
  },
  {
   "cell_type": "code",
   "execution_count": 19,
   "metadata": {
    "colab": {
     "base_uri": "https://localhost:8080/",
     "height": 425
    },
    "executionInfo": {
     "elapsed": 6,
     "status": "ok",
     "timestamp": 1677621485940,
     "user": {
      "displayName": "Luis Ignacio Russo Locati",
      "userId": "15672299700269598283"
     },
     "user_tz": 180
    },
    "id": "Sf3FQw3aPnY-",
    "outputId": "49c05b08-180f-4d72-c6d6-00f99e1cec99"
   },
   "outputs": [
    {
     "data": {
      "text/html": [
       "<div>\n",
       "<style scoped>\n",
       "    .dataframe tbody tr th:only-of-type {\n",
       "        vertical-align: middle;\n",
       "    }\n",
       "\n",
       "    .dataframe tbody tr th {\n",
       "        vertical-align: top;\n",
       "    }\n",
       "\n",
       "    .dataframe thead th {\n",
       "        text-align: right;\n",
       "    }\n",
       "</style>\n",
       "<table border=\"1\" class=\"dataframe\">\n",
       "  <thead>\n",
       "    <tr style=\"text-align: right;\">\n",
       "      <th></th>\n",
       "      <th>overall</th>\n",
       "    </tr>\n",
       "    <tr>\n",
       "      <th>datetime</th>\n",
       "      <th></th>\n",
       "    </tr>\n",
       "  </thead>\n",
       "  <tbody>\n",
       "    <tr>\n",
       "      <th>2000</th>\n",
       "      <td>1</td>\n",
       "    </tr>\n",
       "    <tr>\n",
       "      <th>2004</th>\n",
       "      <td>1</td>\n",
       "    </tr>\n",
       "    <tr>\n",
       "      <th>2006</th>\n",
       "      <td>16</td>\n",
       "    </tr>\n",
       "    <tr>\n",
       "      <th>2007</th>\n",
       "      <td>118</td>\n",
       "    </tr>\n",
       "    <tr>\n",
       "      <th>2008</th>\n",
       "      <td>231</td>\n",
       "    </tr>\n",
       "    <tr>\n",
       "      <th>2009</th>\n",
       "      <td>362</td>\n",
       "    </tr>\n",
       "    <tr>\n",
       "      <th>2010</th>\n",
       "      <td>376</td>\n",
       "    </tr>\n",
       "    <tr>\n",
       "      <th>2011</th>\n",
       "      <td>725</td>\n",
       "    </tr>\n",
       "    <tr>\n",
       "      <th>2012</th>\n",
       "      <td>2727</td>\n",
       "    </tr>\n",
       "    <tr>\n",
       "      <th>2013</th>\n",
       "      <td>16019</td>\n",
       "    </tr>\n",
       "    <tr>\n",
       "      <th>2014</th>\n",
       "      <td>16550</td>\n",
       "    </tr>\n",
       "  </tbody>\n",
       "</table>\n",
       "</div>"
      ],
      "text/plain": [
       "          overall\n",
       "datetime         \n",
       "2000            1\n",
       "2004            1\n",
       "2006           16\n",
       "2007          118\n",
       "2008          231\n",
       "2009          362\n",
       "2010          376\n",
       "2011          725\n",
       "2012         2727\n",
       "2013        16019\n",
       "2014        16550"
      ]
     },
     "execution_count": 19,
     "metadata": {},
     "output_type": "execute_result"
    }
   ],
   "source": [
    "result = instant_video.groupby(instant_video.datetime.dt.year).agg({'overall': 'mean', 'overall': 'count'})\n",
    "result"
   ]
  },
  {
   "cell_type": "code",
   "execution_count": 21,
   "metadata": {},
   "outputs": [
    {
     "data": {
      "text/html": [
       "<div>\n",
       "<style scoped>\n",
       "    .dataframe tbody tr th:only-of-type {\n",
       "        vertical-align: middle;\n",
       "    }\n",
       "\n",
       "    .dataframe tbody tr th {\n",
       "        vertical-align: top;\n",
       "    }\n",
       "\n",
       "    .dataframe thead th {\n",
       "        text-align: right;\n",
       "    }\n",
       "</style>\n",
       "<table border=\"1\" class=\"dataframe\">\n",
       "  <thead>\n",
       "    <tr style=\"text-align: right;\">\n",
       "      <th></th>\n",
       "      <th>overall</th>\n",
       "    </tr>\n",
       "    <tr>\n",
       "      <th>datetime</th>\n",
       "      <th></th>\n",
       "    </tr>\n",
       "  </thead>\n",
       "  <tbody>\n",
       "    <tr>\n",
       "      <th>2000</th>\n",
       "      <td>1</td>\n",
       "    </tr>\n",
       "    <tr>\n",
       "      <th>2004</th>\n",
       "      <td>1</td>\n",
       "    </tr>\n",
       "    <tr>\n",
       "      <th>2006</th>\n",
       "      <td>16</td>\n",
       "    </tr>\n",
       "    <tr>\n",
       "      <th>2007</th>\n",
       "      <td>118</td>\n",
       "    </tr>\n",
       "    <tr>\n",
       "      <th>2008</th>\n",
       "      <td>231</td>\n",
       "    </tr>\n",
       "    <tr>\n",
       "      <th>2009</th>\n",
       "      <td>362</td>\n",
       "    </tr>\n",
       "    <tr>\n",
       "      <th>2010</th>\n",
       "      <td>376</td>\n",
       "    </tr>\n",
       "    <tr>\n",
       "      <th>2011</th>\n",
       "      <td>725</td>\n",
       "    </tr>\n",
       "    <tr>\n",
       "      <th>2012</th>\n",
       "      <td>2727</td>\n",
       "    </tr>\n",
       "    <tr>\n",
       "      <th>2013</th>\n",
       "      <td>16019</td>\n",
       "    </tr>\n",
       "    <tr>\n",
       "      <th>2014</th>\n",
       "      <td>16550</td>\n",
       "    </tr>\n",
       "  </tbody>\n",
       "</table>\n",
       "</div>"
      ],
      "text/plain": [
       "          overall\n",
       "datetime         \n",
       "2000            1\n",
       "2004            1\n",
       "2006           16\n",
       "2007          118\n",
       "2008          231\n",
       "2009          362\n",
       "2010          376\n",
       "2011          725\n",
       "2012         2727\n",
       "2013        16019\n",
       "2014        16550"
      ]
     },
     "execution_count": 21,
     "metadata": {},
     "output_type": "execute_result"
    }
   ],
   "source": [
    "result = movies_tv.groupby(movies_tv.datetime.dt.year).agg({'overall': 'mean', 'overall': 'count'})\n",
    "result"
   ]
  },
  {
   "cell_type": "code",
   "execution_count": 22,
   "metadata": {
    "colab": {
     "base_uri": "https://localhost:8080/",
     "height": 590
    },
    "executionInfo": {
     "elapsed": 868,
     "status": "ok",
     "timestamp": 1677621486803,
     "user": {
      "displayName": "Luis Ignacio Russo Locati",
      "userId": "15672299700269598283"
     },
     "user_tz": 180
    },
    "id": "RQuIAgyT_SmN",
    "outputId": "04bf9cf0-004f-4838-f161-417464ffae0f"
   },
   "outputs": [
    {
     "data": {
      "text/plain": [
       "<Axes: xlabel='datetime'>"
      ]
     },
     "execution_count": 22,
     "metadata": {},
     "output_type": "execute_result"
    },
    {
     "data": {
      "image/png": "[encoded data removed]",
      "text/plain": [
       "<Figure size 640x480 with 1 Axes>"
      ]
     },
     "metadata": {},
     "output_type": "display_data"
    },
    {
     "data": {
      "image/png": "[encoded data removed]",
      "text/plain": [
       "<Figure size 640x480 with 1 Axes>"
      ]
     },
     "metadata": {},
     "output_type": "display_data"
    }
   ],
   "source": [
    "instant_video.groupby(instant_video.datetime.dt.year)['overall'].mean().to_frame().plot(kind=\"bar\")\n",
    "movies_tv.groupby(movies_tv.datetime.dt.year)['overall'].mean().to_frame().plot(kind=\"bar\")"
   ]
  },
  {
   "cell_type": "markdown",
   "metadata": {
    "id": "PfFm0Zcq_YB-"
   },
   "source": [
    "Notamos eso:\n",
    "\n",
    "1. No hay tendencias notables de cambio de calificaciones con el tiempo.\n",
    "\n",
    "2. Hay algunos años atípicos con calificaciones más altas, pero estos son años en los que la cantidad de revisiones es muy pequeña, lo que hace que el promedio sea menos confiable."
   ]
  },
  {
   "cell_type": "markdown",
   "metadata": {
    "id": "MxK54pKl_elz"
   },
   "source": [
    "# Promedios longitudes de revisiones por año"
   ]
  },
  {
   "cell_type": "code",
   "execution_count": 23,
   "metadata": {
    "colab": {
     "base_uri": "https://localhost:8080/",
     "height": 590
    },
    "executionInfo": {
     "elapsed": 1407,
     "status": "ok",
     "timestamp": 1677621488208,
     "user": {
      "displayName": "Luis Ignacio Russo Locati",
      "userId": "15672299700269598283"
     },
     "user_tz": 180
    },
    "id": "jhQyJgrk_g6u",
    "outputId": "469209a1-fddf-4840-deb8-a5addb5b2a7e"
   },
   "outputs": [
    {
     "data": {
      "text/plain": [
       "<Axes: xlabel='datetime'>"
      ]
     },
     "execution_count": 23,
     "metadata": {},
     "output_type": "execute_result"
    },
    {
     "data": {
      "image/png": "[encoded data removed]",
      "text/plain": [
       "<Figure size 640x480 with 1 Axes>"
      ]
     },
     "metadata": {},
     "output_type": "display_data"
    },
    {
     "data": {
      "image/png": "[encoded data removed]",
      "text/plain": [
       "<Figure size 640x480 with 1 Axes>"
      ]
     },
     "metadata": {},
     "output_type": "display_data"
    }
   ],
   "source": [
    "instant_video['length'] = instant_video['reviewText'].apply(len)\n",
    "instant_video.groupby(instant_video.datetime.dt.year)['length'].mean().to_frame().plot(kind=\"bar\")\n",
    "\n",
    "movies_tv['length'] = movies_tv['reviewText'].apply(len)\n",
    "movies_tv.groupby(movies_tv.datetime.dt.year)['length'].mean().to_frame().plot(kind=\"bar\")"
   ]
  },
  {
   "cell_type": "markdown",
   "metadata": {
    "id": "hTGfsPFr_lMp"
   },
   "source": [
    "Observamos una aparente tendencia al alza en la duración de las reseñas durante la década de 1990 y principios de la de 2000, seguida de una tendencia a la baja. Debido a que ambos conjuntos de datos tienen revisiones más recientes, la tendencia a la baja en la duración de la revisión es más confiable."
   ]
  },
  {
   "cell_type": "markdown",
   "metadata": {
    "id": "ckVQP9Ze_pKT"
   },
   "source": [
    "# Encontrar palabras mas frecuentes"
   ]
  },
  {
   "cell_type": "markdown",
   "metadata": {
    "id": "X3YS6xrl_uWz"
   },
   "source": [
    "Encontremos las diez palabras sin stopwrods que aparecen con mayor frecuencia en: (i) todas las reseñas, (ii) reseñas positivas, (iii) reseñas negativas. ¿Te sorprenden los resultados? ¿Por qué o por qué no?"
   ]
  },
  {
   "cell_type": "code",
   "execution_count": 24,
   "metadata": {
    "id": "w65uNuKF_sEh"
   },
   "outputs": [],
   "source": [
    "from sklearn.feature_extraction.text import CountVectorizer\n",
    "from datetime import datetime\n",
    "\n",
    "short_movies_tv = movies_tv.head(100000)\n",
    "\n",
    "def get_top_n_words(corpus, n=1, k=1):\n",
    "    t1 = datetime.now()\n",
    "    vec = CountVectorizer(ngram_range=(k, k), stop_words=\"english\")\n",
    "    bag_of_words = vec.fit_transform(corpus)\n",
    "    sum_words = bag_of_words.sum(axis=0) \n",
    "    words_freq = [(word, sum_words[0, idx]) for word, idx in vec.vocabulary_.items()]\n",
    "    words_freq = sorted(words_freq, key=lambda x: x[1], reverse=True)\n",
    "    return words_freq[:n]"
   ]
  },
  {
   "cell_type": "code",
   "execution_count": 25,
   "metadata": {
    "id": "9VKQerKeVa-t"
   },
   "outputs": [],
   "source": [
    "vec = CountVectorizer(ngram_range=(1, 1), stop_words=\"english\")\n",
    "bag_of_words = vec.fit_transform(short_movies_tv[\"reviewText\"])"
   ]
  },
  {
   "cell_type": "code",
   "execution_count": 26,
   "metadata": {
    "colab": {
     "base_uri": "https://localhost:8080/"
    },
    "executionInfo": {
     "elapsed": 4,
     "status": "ok",
     "timestamp": 1677621504220,
     "user": {
      "displayName": "Luis Ignacio Russo Locati",
      "userId": "15672299700269598283"
     },
     "user_tz": 180
    },
    "id": "WXK65nvtXiIx",
    "outputId": "f57fb4e1-776f-4ee4-b21c-807a8fd6070c"
   },
   "outputs": [
    {
     "data": {
      "text/plain": [
       "matrix([[145, 108,   1, ...,   1,   2,   1]])"
      ]
     },
     "execution_count": 26,
     "metadata": {},
     "output_type": "execute_result"
    }
   ],
   "source": [
    " bag_of_words.sum(axis=0) "
   ]
  },
  {
   "cell_type": "code",
   "execution_count": 27,
   "metadata": {
    "colab": {
     "base_uri": "https://localhost:8080/"
    },
    "executionInfo": {
     "elapsed": 17083,
     "status": "ok",
     "timestamp": 1677621521301,
     "user": {
      "displayName": "Luis Ignacio Russo Locati",
      "userId": "15672299700269598283"
     },
     "user_tz": 180
    },
    "id": "_Ltjxt2y_2DL",
    "outputId": "473927f4-c969-48ab-a5d9-8f72729e28cc"
   },
   "outputs": [
    {
     "name": "stdout",
     "output_type": "stream",
     "text": [
      "season 16885\n",
      "like 14748\n",
      "series 12901\n",
      "good 12663\n",
      "just 11465\n",
      "great 10594\n",
      "34 10184\n",
      "really 9097\n",
      "love 8989\n",
      "watch 8989\n",
      "characters 8696\n",
      "story 8008\n",
      "movie 7625\n",
      "episode 7578\n",
      "time 7137\n",
      "film 6745\n",
      "watching 5927\n",
      "people 5509\n",
      "episodes 5376\n",
      "don 5323\n",
      "CPU times: total: 2.45 s\n",
      "Wall time: 2.47 s\n"
     ]
    },
    {
     "data": {
      "text/plain": [
       "<Axes: title={'center': 'Top 20 words from all reviews'}, xlabel='words'>"
      ]
     },
     "execution_count": 27,
     "metadata": {},
     "output_type": "execute_result"
    },
    {
     "data": {
      "image/png": "[encoded data removed]",
      "text/plain": [
       "<Figure size 640x480 with 1 Axes>"
      ]
     },
     "metadata": {},
     "output_type": "display_data"
    }
   ],
   "source": [
    "%%time\n",
    "# Todos los reviews\n",
    "common_words = get_top_n_words(short_movies_tv[\"reviewText\"], 20, 1)\n",
    "for word, freq in common_words:\n",
    "    print(word, freq)\n",
    "    \n",
    "df = pd.DataFrame(common_words, columns=[\"words\", \"count\"])\n",
    "df.groupby(\"words\").sum()[\"count\"].sort_values(ascending=False).plot(\n",
    "    kind=\"bar\", title=\"Top 20 words from all reviews\"\n",
    ")"
   ]
  },
  {
   "cell_type": "code",
   "execution_count": 28,
   "metadata": {
    "colab": {
     "base_uri": "https://localhost:8080/"
    },
    "executionInfo": {
     "elapsed": 13582,
     "status": "ok",
     "timestamp": 1677621534879,
     "user": {
      "displayName": "Luis Ignacio Russo Locati",
      "userId": "15672299700269598283"
     },
     "user_tz": 180
    },
    "id": "psKgo-ri_6qr",
    "outputId": "640fa429-4cfc-4b55-b0c9-55eff2bd3850"
   },
   "outputs": [
    {
     "name": "stdout",
     "output_type": "stream",
     "text": [
      "season 14255\n",
      "series 10914\n",
      "like 10206\n",
      "good 9692\n",
      "great 9375\n",
      "love 8003\n",
      "just 7342\n",
      "34 7138\n",
      "watch 6912\n",
      "characters 6685\n",
      "really 6511\n",
      "episode 5936\n",
      "story 5701\n",
      "time 5046\n",
      "watching 4566\n",
      "episodes 4292\n",
      "shows 4230\n",
      "movie 4200\n",
      "film 3912\n",
      "new 3842\n",
      "CPU times: total: 1.77 s\n",
      "Wall time: 1.75 s\n"
     ]
    },
    {
     "data": {
      "text/plain": [
       "<Axes: title={'center': 'Top 20 words from good reviews'}, xlabel='words'>"
      ]
     },
     "execution_count": 28,
     "metadata": {},
     "output_type": "execute_result"
    },
    {
     "data": {
      "image/png": "[encoded data removed]",
      "text/plain": [
       "<Figure size 640x480 with 1 Axes>"
      ]
     },
     "metadata": {},
     "output_type": "display_data"
    }
   ],
   "source": [
    "%%time\n",
    "# reviews Positivos\n",
    "good_indices = short_movies_tv[\"overall\"] > 3.1\n",
    "good_reviews = short_movies_tv[good_indices]\n",
    "bad_indices = short_movies_tv[\"overall\"] < 2.1\n",
    "bad_reviews = short_movies_tv[bad_indices]\n",
    "\n",
    "common_words = get_top_n_words(good_reviews[\"reviewText\"], 20)\n",
    "for word, freq in common_words:\n",
    "    print(word, freq)\n",
    "\n",
    "df = pd.DataFrame(common_words, columns=[\"words\", 'count'])\n",
    "df.groupby('words').sum()['count'].sort_values(ascending=False).plot(\n",
    "    kind='bar', title='Top 20 words from good reviews'\n",
    ")"
   ]
  },
  {
   "cell_type": "code",
   "execution_count": 29,
   "metadata": {
    "colab": {
     "base_uri": "https://localhost:8080/"
    },
    "executionInfo": {
     "elapsed": 1812,
     "status": "ok",
     "timestamp": 1677621537052,
     "user": {
      "displayName": "Luis Ignacio Russo Locati",
      "userId": "15672299700269598283"
     },
     "user_tz": 180
    },
    "id": "wYVCOGK0_9oa",
    "outputId": "b9824417-dea1-4d9b-e86c-af8e44af34c7"
   },
   "outputs": [
    {
     "name": "stdout",
     "output_type": "stream",
     "text": [
      "just 2198\n",
      "like 2123\n",
      "movie 1784\n",
      "34 1412\n",
      "film 1206\n",
      "really 1176\n",
      "good 1148\n",
      "don 1021\n",
      "time 1002\n",
      "people 958\n",
      "story 952\n",
      "watch 948\n",
      "characters 909\n",
      "bad 874\n",
      "season 834\n",
      "make 751\n",
      "series 746\n",
      "episode 727\n",
      "way 674\n",
      "watching 670\n",
      "CPU times: total: 438 ms\n",
      "Wall time: 388 ms\n"
     ]
    },
    {
     "data": {
      "text/plain": [
       "<Axes: title={'center': 'Top 20 words from bad reviews'}, xlabel='words'>"
      ]
     },
     "execution_count": 29,
     "metadata": {},
     "output_type": "execute_result"
    },
    {
     "data": {
      "image/png": "[encoded data removed]",
      "text/plain": [
       "<Figure size 640x480 with 1 Axes>"
      ]
     },
     "metadata": {},
     "output_type": "display_data"
    }
   ],
   "source": [
    "%%time\n",
    "# reviews Negativos\n",
    "common_words = get_top_n_words(bad_reviews['reviewText'], 20)\n",
    "for word, freq in common_words:\n",
    "    print(word, freq)\n",
    "df = pd.DataFrame(common_words, columns=['words', 'count'])\n",
    "df.groupby('words').sum()['count'].sort_values(ascending=False).plot(\n",
    "    kind='bar', title='Top 20 words from bad reviews'\n",
    ")"
   ]
  },
  {
   "cell_type": "markdown",
   "metadata": {
    "id": "wRqTGE2gAFR8"
   },
   "source": [
    "Tengan en cuenta que los resultados son casi idénticos en los tres grupos de reseñas: casi todas las palabras más importantes son palabras genéricas muy comunes sobre películas (es decir, \"película\" en sí). Como vimos en el caso anterior, esto no es tan sorprendente, dado que estamos tratando con datos en un contexto específico de una película, y las palabras vacías solo tendrán en cuenta las palabras genéricas que aparecen en muchos contextos en inglés, las stopwords más comunes serán el vocabulario básico relacionado con las películas, no necesariamente palabras más precisas que den más color a las reseñas en sí."
   ]
  },
  {
   "cell_type": "markdown",
   "metadata": {
    "id": "hjozNHkSATju"
   },
   "source": [
    "Encuentremos las palabras que sean indicativas de malas críticas. Es decir, palabras que aparecen a menudo en malas críticas y no en buenas críticas. ¿Qué son estas palabras y son sorprendentes?"
   ]
  },
  {
   "cell_type": "code",
   "execution_count": 30,
   "metadata": {
    "colab": {
     "base_uri": "https://localhost:8080/"
    },
    "executionInfo": {
     "elapsed": 8221,
     "status": "ok",
     "timestamp": 1677621545264,
     "user": {
      "displayName": "Luis Ignacio Russo Locati",
      "userId": "15672299700269598283"
     },
     "user_tz": 180
    },
    "id": "tUaPS6NxAQl5",
    "outputId": "6152876e-6b3e-48c4-f312-8fd2a1543a8b"
   },
   "outputs": [
    {
     "name": "stdout",
     "output_type": "stream",
     "text": [
      "CPU times: total: 1 s\n",
      "Wall time: 1.02 s\n"
     ]
    },
    {
     "data": {
      "image/png": "[encoded data removed]",
      "text/plain": [
       "<Figure size 1000x1000 with 1 Axes>"
      ]
     },
     "metadata": {},
     "output_type": "display_data"
    }
   ],
   "source": [
    "%%time\n",
    "from collections import Counter\n",
    "\n",
    "def get_indicative_words(text1, text2, n=20):\n",
    "    c1 = Counter(text1.lower().split(\" \"))\n",
    "    c2 = Counter(text2.lower().split(\" \"))\n",
    "    ind_words_1 = (c1 - c2).most_common(n)\n",
    "    ind_words_2 = (c2 - c1).most_common(n)    \n",
    "    x, y = zip(*ind_words_2)\n",
    "    \n",
    "    df = pd.DataFrame({'word': x, 'count': y})\n",
    "    df.plot.barh(\n",
    "        x='word', y='count', figsize=(10,10)\n",
    "    )\n",
    "\n",
    "get_indicative_words(' '.join(good_reviews['reviewText']), ' '.join(bad_reviews['reviewText']))"
   ]
  },
  {
   "cell_type": "code",
   "execution_count": null,
   "metadata": {
    "id": "KyqIjetwctUr"
   },
   "outputs": [],
   "source": []
  },
  {
   "cell_type": "code",
   "execution_count": 31,
   "metadata": {
    "id": "tBjoDv8ScW0p"
   },
   "outputs": [],
   "source": [
    "text1 = ' '.join(good_reviews['reviewText'])\n",
    "text2 = ' '.join(bad_reviews['reviewText'])\n"
   ]
  },
  {
   "cell_type": "code",
   "execution_count": 32,
   "metadata": {
    "id": "VNdSmaLUcsbj"
   },
   "outputs": [],
   "source": [
    "c1 = Counter(text1.lower().split(\" \"))\n",
    "c2 = Counter(text2.lower().split(\" \"))\n",
    "ind_words_1 = (c1 - c2).most_common(20)\n",
    "ind_words_2 = (c2 - c1).most_common(20)"
   ]
  },
  {
   "cell_type": "code",
   "execution_count": 33,
   "metadata": {
    "colab": {
     "base_uri": "https://localhost:8080/"
    },
    "executionInfo": {
     "elapsed": 1227,
     "status": "ok",
     "timestamp": 1677621555773,
     "user": {
      "displayName": "Luis Ignacio Russo Locati",
      "userId": "15672299700269598283"
     },
     "user_tz": 180
    },
    "id": "bmanHO4BdlG2",
    "outputId": "672ad23c-0995-4865-d30b-abea829b5f86"
   },
   "outputs": [
    {
     "data": {
      "text/plain": [
       "Counter({'the': 111578,\n",
       "         'and': 65248,\n",
       "         'a': 51203,\n",
       "         'to': 48099,\n",
       "         'of': 46127,\n",
       "         'is': 39508,\n",
       "         '': 38570,\n",
       "         'i': 37641,\n",
       "         'this': 27550,\n",
       "         'in': 25745,\n",
       "         'it': 24589,\n",
       "         'that': 20556,\n",
       "         'for': 16400,\n",
       "         'with': 16095,\n",
       "         'as': 15452,\n",
       "         'are': 13687,\n",
       "         'but': 13524,\n",
       "         'on': 13471,\n",
       "         'you': 12334,\n",
       "         'show': 11962,\n",
       "         'was': 11961,\n",
       "         'season': 10116,\n",
       "         'have': 9978,\n",
       "         'not': 8784,\n",
       "         'they': 8632,\n",
       "         'be': 8247,\n",
       "         'all': 7810,\n",
       "         'like': 7661,\n",
       "         'great': 7637,\n",
       "         'one': 7630,\n",
       "         'his': 7561,\n",
       "         'so': 7374,\n",
       "         'has': 7095,\n",
       "         'love': 7092,\n",
       "         'good': 7009,\n",
       "         'he': 6802,\n",
       "         'more': 6797,\n",
       "         'my': 6623,\n",
       "         'series': 6507,\n",
       "         'very': 6432,\n",
       "         'from': 6350,\n",
       "         'an': 6262,\n",
       "         'who': 6040,\n",
       "         'at': 5864,\n",
       "         'will': 5722,\n",
       "         'some': 5372,\n",
       "         'if': 5356,\n",
       "         'by': 5346,\n",
       "         'what': 5256,\n",
       "         'really': 5232,\n",
       "         \"it's\": 5218,\n",
       "         'just': 5014,\n",
       "         'about': 4946,\n",
       "         'we': 4891,\n",
       "         'see': 4826,\n",
       "         'there': 4820,\n",
       "         'watch': 4621,\n",
       "         'their': 4558,\n",
       "         'or': 4396,\n",
       "         'out': 4313,\n",
       "         'her': 4249,\n",
       "         'can': 4238,\n",
       "         'well': 4172,\n",
       "         'when': 4117,\n",
       "         'would': 4101,\n",
       "         'up': 4090,\n",
       "         'characters': 4075,\n",
       "         'get': 3924,\n",
       "         'story': 3831,\n",
       "         'how': 3766,\n",
       "         'first': 3562,\n",
       "         'show.': 3476,\n",
       "         '-': 3446,\n",
       "         'episode': 3408,\n",
       "         'new': 3288,\n",
       "         'watching': 3234,\n",
       "         'me': 3205,\n",
       "         'she': 3183,\n",
       "         'into': 3124,\n",
       "         'than': 3066,\n",
       "         'much': 3032,\n",
       "         'shows': 2944,\n",
       "         'also': 2891,\n",
       "         'had': 2847,\n",
       "         'only': 2834,\n",
       "         'been': 2823,\n",
       "         'do': 2790,\n",
       "         'which': 2779,\n",
       "         'were': 2731,\n",
       "         'other': 2715,\n",
       "         'think': 2680,\n",
       "         'episodes': 2655,\n",
       "         'am': 2634,\n",
       "         'each': 2616,\n",
       "         'time': 2611,\n",
       "         'even': 2577,\n",
       "         'best': 2576,\n",
       "         'most': 2537,\n",
       "         'still': 2534,\n",
       "         'many': 2521,\n",
       "         'its': 2521,\n",
       "         'these': 2515,\n",
       "         'it.': 2501,\n",
       "         'because': 2460,\n",
       "         'little': 2394,\n",
       "         'two': 2374,\n",
       "         'character': 2356,\n",
       "         'always': 2352,\n",
       "         'them': 2296,\n",
       "         'people': 2197,\n",
       "         'after': 2184,\n",
       "         'tv': 2172,\n",
       "         'know': 2172,\n",
       "         'make': 2151,\n",
       "         'every': 2151,\n",
       "         \"don't\": 2134,\n",
       "         'series.': 2121,\n",
       "         'interesting': 2115,\n",
       "         'never': 2082,\n",
       "         \"i'm\": 2016,\n",
       "         'back': 2003,\n",
       "         'no': 1998,\n",
       "         'while': 1978,\n",
       "         'way': 1976,\n",
       "         'enjoy': 1972,\n",
       "         \"can't\": 1957,\n",
       "         'being': 1946,\n",
       "         'could': 1907,\n",
       "         'going': 1871,\n",
       "         'over': 1870,\n",
       "         'film': 1849,\n",
       "         'fun': 1842,\n",
       "         'find': 1826,\n",
       "         'cast': 1825,\n",
       "         'your': 1816,\n",
       "         'better': 1809,\n",
       "         'makes': 1785,\n",
       "         'hope': 1782,\n",
       "         'keep': 1780,\n",
       "         'enjoyed': 1753,\n",
       "         'where': 1749,\n",
       "         'now': 1748,\n",
       "         'him': 1736,\n",
       "         'does': 1715,\n",
       "         'then': 1705,\n",
       "         'watched': 1689,\n",
       "         'lot': 1686,\n",
       "         'those': 1674,\n",
       "         'movie': 1670,\n",
       "         'want': 1637,\n",
       "         'seasons': 1612,\n",
       "         'wait': 1605,\n",
       "         'season.': 1604,\n",
       "         'bit': 1587,\n",
       "         'things': 1582,\n",
       "         'too': 1574,\n",
       "         'life': 1558,\n",
       "         'acting': 1542,\n",
       "         'did': 1517,\n",
       "         'between': 1493,\n",
       "         'next': 1481,\n",
       "         'both': 1479,\n",
       "         'real': 1473,\n",
       "         'go': 1466,\n",
       "         'another': 1454,\n",
       "         'any': 1453,\n",
       "         'few': 1444,\n",
       "         'loved': 1443,\n",
       "         'off': 1427,\n",
       "         'worth': 1401,\n",
       "         'family': 1399,\n",
       "         'look': 1364,\n",
       "         'actors': 1363,\n",
       "         'our': 1362,\n",
       "         'recommend': 1354,\n",
       "         'seen': 1354,\n",
       "         'last': 1347,\n",
       "         'amazon': 1316,\n",
       "         'us': 1310,\n",
       "         'since': 1310,\n",
       "         'show,': 1294,\n",
       "         'excellent': 1286,\n",
       "         'end': 1285,\n",
       "         'may': 1280,\n",
       "         'made': 1274,\n",
       "         'through': 1259,\n",
       "         'plot': 1240,\n",
       "         'gets': 1219,\n",
       "         'old': 1217,\n",
       "         'different': 1216,\n",
       "         'own': 1211,\n",
       "         '&': 1209,\n",
       "         'say': 1202,\n",
       "         \"i've\": 1190,\n",
       "         'take': 1187,\n",
       "         '2': 1180,\n",
       "         'favorite': 1156,\n",
       "         'quite': 1151,\n",
       "         'something': 1151,\n",
       "         'such': 1147,\n",
       "         'got': 1145,\n",
       "         'come': 1143,\n",
       "         'definitely': 1134,\n",
       "         'give': 1126,\n",
       "         'though': 1123,\n",
       "         'same': 1113,\n",
       "         'pretty': 1106,\n",
       "         'enough': 1098,\n",
       "         'forward': 1097,\n",
       "         'right': 1095,\n",
       "         'liked': 1080,\n",
       "         'thought': 1078,\n",
       "         'second': 1073,\n",
       "         'seems': 1066,\n",
       "         'stories': 1062,\n",
       "         'far': 1060,\n",
       "         'looking': 1049,\n",
       "         'work': 1034,\n",
       "         'without': 1034,\n",
       "         'job': 1019,\n",
       "         'funny': 1017,\n",
       "         '3': 1015,\n",
       "         'feel': 1007,\n",
       "         'found': 999,\n",
       "         'years': 992,\n",
       "         'action': 991,\n",
       "         'long': 984,\n",
       "         'ever': 976,\n",
       "         'part': 976,\n",
       "         'fan': 971,\n",
       "         'highly': 965,\n",
       "         'down': 964,\n",
       "         'must': 961,\n",
       "         \"doesn't\": 961,\n",
       "         'keeps': 956,\n",
       "         'should': 953,\n",
       "         'whole': 949,\n",
       "         'three': 946,\n",
       "         'sure': 944,\n",
       "         'especially': 944,\n",
       "         'bad': 939,\n",
       "         'writing': 933,\n",
       "         'drama': 926,\n",
       "         'getting': 926,\n",
       "         'before': 921,\n",
       "         'wish': 919,\n",
       "         'done': 918,\n",
       "         'actually': 901,\n",
       "         'young': 887,\n",
       "         'main': 886,\n",
       "         'set': 884,\n",
       "         'episode.': 883,\n",
       "         'entertaining': 880,\n",
       "         'big': 879,\n",
       "         'comes': 877,\n",
       "         'nice': 868,\n",
       "         'world': 867,\n",
       "         \"didn't\": 866,\n",
       "         'man': 862,\n",
       "         'around': 843,\n",
       "         'series,': 834,\n",
       "         'watch.': 832,\n",
       "         'it,': 807,\n",
       "         'until': 793,\n",
       "         'having': 791,\n",
       "         'line': 789,\n",
       "         '1': 784,\n",
       "         'start': 780,\n",
       "         'takes': 778,\n",
       "         'characters.': 776,\n",
       "         '5': 773,\n",
       "         '4': 773,\n",
       "         'well.': 770,\n",
       "         'year': 756,\n",
       "         'almost': 756,\n",
       "         'yet': 755,\n",
       "         \"he's\": 752,\n",
       "         'original': 752,\n",
       "         'writers': 751,\n",
       "         'might': 749,\n",
       "         'need': 745,\n",
       "         'glad': 745,\n",
       "         'season,': 743,\n",
       "         'wonderful': 740,\n",
       "         'why': 738,\n",
       "         'everything': 734,\n",
       "         'once': 725,\n",
       "         'time.': 724,\n",
       "         'more.': 722,\n",
       "         'true': 717,\n",
       "         'special': 717,\n",
       "         'seeing': 712,\n",
       "         'times': 712,\n",
       "         'kind': 712,\n",
       "         'help': 711,\n",
       "         'kids': 708,\n",
       "         'become': 707,\n",
       "         'amazing': 702,\n",
       "         'together': 699,\n",
       "         'good.': 691,\n",
       "         'along': 690,\n",
       "         'started': 685,\n",
       "         'here': 684,\n",
       "         'plays': 684,\n",
       "         'scenes': 681,\n",
       "         'hard': 681,\n",
       "         'seem': 680,\n",
       "         'however,': 679,\n",
       "         'entire': 673,\n",
       "         'thing': 671,\n",
       "         'put': 670,\n",
       "         'probably': 668,\n",
       "         'top': 667,\n",
       "         'goes': 666,\n",
       "         'although': 662,\n",
       "         'characters,': 659,\n",
       "         'sometimes': 654,\n",
       "         'wife': 649,\n",
       "         'full': 646,\n",
       "         'played': 645,\n",
       "         'television': 643,\n",
       "         'during': 641,\n",
       "         'history': 641,\n",
       "         'able': 639,\n",
       "         'several': 638,\n",
       "         'left': 637,\n",
       "         'human': 636,\n",
       "         'prime': 635,\n",
       "         'trying': 634,\n",
       "         'day': 632,\n",
       "         'high': 631,\n",
       "         'episodes.': 630,\n",
       "         'role': 629,\n",
       "         \"isn't\": 626,\n",
       "         \"that's\": 625,\n",
       "         '--': 618,\n",
       "         'perfect': 614,\n",
       "         'stars': 613,\n",
       "         'making': 613,\n",
       "         'anyone': 610,\n",
       "         'crime': 607,\n",
       "         \"there's\": 607,\n",
       "         '\"the': 606,\n",
       "         'police': 604,\n",
       "         'team': 603,\n",
       "         'truly': 599,\n",
       "         'final': 599,\n",
       "         'everyone': 597,\n",
       "         'often': 596,\n",
       "         'continue': 595,\n",
       "         'written': 592,\n",
       "         'quality': 587,\n",
       "         'humor': 583,\n",
       "         'miss': 580,\n",
       "         'loves': 574,\n",
       "         'twists': 573,\n",
       "         'lots': 573,\n",
       "         'believe': 573,\n",
       "         'away': 570,\n",
       "         'comedy': 569,\n",
       "         'again': 568,\n",
       "         'dvd': 567,\n",
       "         'learn': 564,\n",
       "         'them.': 560,\n",
       "         'show!': 555,\n",
       "         'past': 545,\n",
       "         'coming': 542,\n",
       "         'seasons.': 538,\n",
       "         'great.': 536,\n",
       "         'four': 535,\n",
       "         'star': 531,\n",
       "         'continues': 530,\n",
       "         'strong': 527,\n",
       "         'play': 527,\n",
       "         'pilot': 526,\n",
       "         'read': 525,\n",
       "         'absolutely': 525,\n",
       "         'use': 525,\n",
       "         'try': 524,\n",
       "         'live': 520,\n",
       "         'saw': 518,\n",
       "         'lead': 517,\n",
       "         'guys': 515,\n",
       "         'came': 515,\n",
       "         'relationship': 512,\n",
       "         'movies': 510,\n",
       "         'lines': 509,\n",
       "         'happy': 509,\n",
       "         'fans': 508,\n",
       "         'american': 507,\n",
       "         'one.': 506,\n",
       "         'music': 506,\n",
       "         'place': 505,\n",
       "         'less': 504,\n",
       "         'rest': 504,\n",
       "         'least': 500,\n",
       "         'couple': 499,\n",
       "         'turns': 495,\n",
       "         'based': 493,\n",
       "         'gives': 490,\n",
       "         'son': 489,\n",
       "         'mystery': 488,\n",
       "         'detective': 488,\n",
       "         'hooked': 487,\n",
       "         'guy': 484,\n",
       "         'ending': 482,\n",
       "         '.': 478,\n",
       "         'doing': 475,\n",
       "         'bring': 473,\n",
       "         'daughter': 469,\n",
       "         'given': 469,\n",
       "         'fact': 468,\n",
       "         'anything': 466,\n",
       "         'it!': 465,\n",
       "         'awesome': 462,\n",
       "         'buy': 460,\n",
       "         \"you'll\": 460,\n",
       "         'lives': 460,\n",
       "         'tv.': 459,\n",
       "         'doctor': 459,\n",
       "         \"you're\": 458,\n",
       "         'someone': 458,\n",
       "         'finally': 456,\n",
       "         'shows.': 455,\n",
       "         'group': 453,\n",
       "         'beginning': 451,\n",
       "         'out.': 450,\n",
       "         'good,': 447,\n",
       "         'easy': 445,\n",
       "         'husband': 445,\n",
       "         'horror': 442,\n",
       "         \"won't\": 441,\n",
       "         'five': 440,\n",
       "         'rather': 439,\n",
       "         'used': 438,\n",
       "         'actor': 438,\n",
       "         'let': 438,\n",
       "         'dark': 437,\n",
       "         'happen': 436,\n",
       "         'british': 435,\n",
       "         'type': 435,\n",
       "         'already': 435,\n",
       "         'reality': 434,\n",
       "         \"wasn't\": 432,\n",
       "         'too.': 431,\n",
       "         'kept': 430,\n",
       "         'personal': 427,\n",
       "         \"i'd\": 427,\n",
       "         'cop': 425,\n",
       "         'beautiful': 424,\n",
       "         '(and': 423,\n",
       "         'children': 422,\n",
       "         'looks': 421,\n",
       "         'woman': 419,\n",
       "         'mind': 418,\n",
       "         'sense': 418,\n",
       "         'course': 416,\n",
       "         'production': 415,\n",
       "         \"haven't\": 414,\n",
       "         'small': 413,\n",
       "         'plots': 411,\n",
       "         'certainly': 411,\n",
       "         'story.': 411,\n",
       "         'tell': 410,\n",
       "         'under': 409,\n",
       "         'enjoyable': 408,\n",
       "         'watching.': 408,\n",
       "         'episode,': 406,\n",
       "         'home': 405,\n",
       "         'program': 404,\n",
       "         'john': 404,\n",
       "         'war': 400,\n",
       "         'interesting.': 399,\n",
       "         'me.': 399,\n",
       "         'point': 399,\n",
       "         'science': 399,\n",
       "         'previous': 398,\n",
       "         'michael': 398,\n",
       "         'version': 396,\n",
       "         'major': 396,\n",
       "         'works': 396,\n",
       "         'book': 396,\n",
       "         'case': 395,\n",
       "         'unique': 395,\n",
       "         'video': 394,\n",
       "         'maybe': 393,\n",
       "         'person': 393,\n",
       "         'others': 393,\n",
       "         'happens': 393,\n",
       "         'available': 392,\n",
       "         'week': 390,\n",
       "         'working': 389,\n",
       "         'totally': 388,\n",
       "         ',': 388,\n",
       "         'behind': 388,\n",
       "         'took': 388,\n",
       "         'becomes': 387,\n",
       "         'turn': 385,\n",
       "         'short': 385,\n",
       "         'storyline': 385,\n",
       "         'scene': 384,\n",
       "         'end.': 384,\n",
       "         'friends': 382,\n",
       "         'entertaining.': 381,\n",
       "         'side': 378,\n",
       "         'life.': 377,\n",
       "         'living': 376,\n",
       "         'understand': 376,\n",
       "         'acting,': 376,\n",
       "         'again.': 376,\n",
       "         'usually': 374,\n",
       "         'men': 372,\n",
       "         'early': 371,\n",
       "         'fantastic': 369,\n",
       "         'house': 369,\n",
       "         'future': 369,\n",
       "         'stop': 368,\n",
       "         'against': 367,\n",
       "         'crew': 367,\n",
       "         'this.': 366,\n",
       "         'went': 365,\n",
       "         'modern': 364,\n",
       "         'playing': 364,\n",
       "         'him.': 361,\n",
       "         'deal': 360,\n",
       "         'and,': 358,\n",
       "         'order': 357,\n",
       "         'up.': 357,\n",
       "         'development': 356,\n",
       "         'third': 356,\n",
       "         'well,': 354,\n",
       "         'laugh': 354,\n",
       "         \"i'll\": 353,\n",
       "         'himself': 352,\n",
       "         'me,': 352,\n",
       "         'better.': 352,\n",
       "         'interest': 351,\n",
       "         'said': 350,\n",
       "         'wanting': 350,\n",
       "         'girl': 348,\n",
       "         'solid': 348,\n",
       "         'law': 348,\n",
       "         'myself': 346,\n",
       "         'network': 346,\n",
       "         'on.': 346,\n",
       "         'film.': 344,\n",
       "         'change': 343,\n",
       "         'sad': 343,\n",
       "         'films': 342,\n",
       "         'dr.': 341,\n",
       "         'including': 339,\n",
       "         'heard': 339,\n",
       "         'chemistry': 337,\n",
       "         'huge': 337,\n",
       "         'interested': 337,\n",
       "         'overall': 336,\n",
       "         'episodes,': 336,\n",
       "         'edge': 336,\n",
       "         'simply': 336,\n",
       "         'murder': 334,\n",
       "         'father': 334,\n",
       "         'david': 334,\n",
       "         'fine': 334,\n",
       "         'expect': 333,\n",
       "         'cannot': 333,\n",
       "         \"she's\": 333,\n",
       "         'features': 332,\n",
       "         'catch': 332,\n",
       "         'movie.': 332,\n",
       "         'due': 332,\n",
       "         'moments': 331,\n",
       "         'close': 330,\n",
       "         'starts': 330,\n",
       "         'brought': 330,\n",
       "         'complete': 328,\n",
       "         'cast.': 327,\n",
       "         'brilliant': 326,\n",
       "         'attention': 326,\n",
       "         'somewhat': 322,\n",
       "         'missed': 322,\n",
       "         'plenty': 322,\n",
       "         'remember': 320,\n",
       "         'completely': 320,\n",
       "         'viewers': 318,\n",
       "         'taken': 318,\n",
       "         'waiting': 317,\n",
       "         'run': 316,\n",
       "         'follow': 316,\n",
       "         'stuff': 315,\n",
       "         'various': 315,\n",
       "         'reason': 315,\n",
       "         'town': 315,\n",
       "         'course,': 314,\n",
       "         'effects': 314,\n",
       "         'free': 313,\n",
       "         'brings': 312,\n",
       "         'james': 311,\n",
       "         'exciting': 310,\n",
       "         'throughout': 310,\n",
       "         'done.': 310,\n",
       "         'great,': 310,\n",
       "         'surprised': 307,\n",
       "         'death': 307,\n",
       "         'taking': 307,\n",
       "         'time,': 306,\n",
       "         'sort': 306,\n",
       "         'half': 305,\n",
       "         'supporting': 305,\n",
       "         'felt': 305,\n",
       "         'heart': 305,\n",
       "         'hilarious': 304,\n",
       "         'enjoying': 304,\n",
       "         'involved': 304,\n",
       "         'fun.': 304,\n",
       "         'way.': 303,\n",
       "         'add': 303,\n",
       "         'finds': 302,\n",
       "         'school': 302,\n",
       "         'review': 302,\n",
       "         'night': 302,\n",
       "         'believable': 301,\n",
       "         'needs': 301,\n",
       "         'dead': 300,\n",
       "         'perhaps': 300,\n",
       "         'mother': 300,\n",
       "         'lost': 299,\n",
       "         'performance': 299,\n",
       "         'days': 299,\n",
       "         'head': 299,\n",
       "         'hate': 297,\n",
       "         'events': 297,\n",
       "         'comic': 297,\n",
       "         'knew': 296,\n",
       "         'nothing': 296,\n",
       "         \"aren't\": 296,\n",
       "         'agent': 296,\n",
       "         'chance': 294,\n",
       "         'women': 293,\n",
       "         'hit': 293,\n",
       "         'certain': 293,\n",
       "         'else': 292,\n",
       "         'leave': 292,\n",
       "         'mr.': 292,\n",
       "         'wonder': 291,\n",
       "         'entertainment': 290,\n",
       "         'idea': 289,\n",
       "         'later': 289,\n",
       "         'issues': 289,\n",
       "         'drama,': 289,\n",
       "         'number': 289,\n",
       "         'caught': 289,\n",
       "         'fascinating': 289,\n",
       "         'ends': 288,\n",
       "         'view': 287,\n",
       "         'sci-fi': 287,\n",
       "         'face': 286,\n",
       "         'ones': 286,\n",
       "         'within': 286,\n",
       "         'either': 285,\n",
       "         'funny.': 285,\n",
       "         'crazy': 285,\n",
       "         'please': 284,\n",
       "         'viewer': 284,\n",
       "         'together.': 283,\n",
       "         'gave': 283,\n",
       "         \"what's\": 281,\n",
       "         'you.': 281,\n",
       "         'wants': 281,\n",
       "         'similar': 281,\n",
       "         'funny,': 280,\n",
       "         '2.': 278,\n",
       "         'documentary': 278,\n",
       "         'instead': 277,\n",
       "         'ended': 277,\n",
       "         'twist': 276,\n",
       "         'realistic': 275,\n",
       "         'whether': 275,\n",
       "         'knows': 275,\n",
       "         'all,': 275,\n",
       "         'next.': 273,\n",
       "         'period': 273,\n",
       "         'there.': 273,\n",
       "         'adult': 273,\n",
       "         'check': 272,\n",
       "         'female': 272,\n",
       "         'potential': 272,\n",
       "         'story,': 271,\n",
       "         'that,': 271,\n",
       "         'film,': 271,\n",
       "         'that.': 271,\n",
       "         '(the': 270,\n",
       "         'despite': 270,\n",
       "         'friend': 269,\n",
       "         'smart': 269,\n",
       "         'character.': 269,\n",
       "         'pay': 269,\n",
       "         'fresh': 269,\n",
       "         'historical': 268,\n",
       "         'family.': 267,\n",
       "         'extremely': 266,\n",
       "         'problems': 266,\n",
       "         'acting.': 266,\n",
       "         'known': 266,\n",
       "         'viewing': 265,\n",
       "         'upon': 265,\n",
       "         'here.': 264,\n",
       "         'thank': 263,\n",
       "         'writing,': 263,\n",
       "         'evil': 263,\n",
       "         'suspense': 262,\n",
       "         'giving': 261,\n",
       "         'now.': 261,\n",
       "         'action,': 260,\n",
       "         'care': 259,\n",
       "         'name': 258,\n",
       "         'matter': 258,\n",
       "         'serious': 257,\n",
       "         'likes': 257,\n",
       "         'happened': 257,\n",
       "         'classic': 257,\n",
       "         \"they're\": 255,\n",
       "         'fast': 255,\n",
       "         'move': 254,\n",
       "         'cast,': 253,\n",
       "         'cable': 253,\n",
       "         'killer': 252,\n",
       "         'character,': 252,\n",
       "         'premise': 252,\n",
       "         'years.': 252,\n",
       "         'starting': 251,\n",
       "         'current': 250,\n",
       "         'terrific': 250,\n",
       "         'parts': 249,\n",
       "         'light': 249,\n",
       "         'bought': 249,\n",
       "         'mix': 249,\n",
       "         'seemed': 248,\n",
       "         'important': 248,\n",
       "         'soon': 248,\n",
       "         'drama.': 247,\n",
       "         'complex': 246,\n",
       "         'familiar': 246,\n",
       "         'developed': 246,\n",
       "         'feeling': 245,\n",
       "         'decided': 245,\n",
       "         'using': 245,\n",
       "         'showing': 244,\n",
       "         'appreciate': 244,\n",
       "         'shows,': 244,\n",
       "         'difficult': 243,\n",
       "         'violence': 243,\n",
       "         'members': 242,\n",
       "         'prime.': 241,\n",
       "         'themselves': 241,\n",
       "         'in.': 241,\n",
       "         'relationships': 241,\n",
       "         'but,': 240,\n",
       "         'begins': 240,\n",
       "         'serial': 239,\n",
       "         'director': 239,\n",
       "         'across': 239,\n",
       "         'particularly': 238,\n",
       "         'cool': 238,\n",
       "         'killed': 238,\n",
       "         'commentary': 238,\n",
       "         'acted': 238,\n",
       "         'told': 238,\n",
       "         'ways': 237,\n",
       "         'following': 237,\n",
       "         'plus': 237,\n",
       "         'helps': 236,\n",
       "         'surprise': 236,\n",
       "         'disappointed': 236,\n",
       "         \"wouldn't\": 235,\n",
       "         '6': 235,\n",
       "         'easily': 235,\n",
       "         'line.': 235,\n",
       "         'screen': 235,\n",
       "         'called': 234,\n",
       "         'mostly': 234,\n",
       "         'outstanding': 234,\n",
       "         'quickly': 234,\n",
       "         'learning': 234,\n",
       "         'setting': 234,\n",
       "         'is,': 233,\n",
       "         'cases': 233,\n",
       "         'stay': 232,\n",
       "         'fall': 232,\n",
       "         'running': 232,\n",
       "         'picked': 232,\n",
       "         'breaking': 232,\n",
       "         'wanted': 231,\n",
       "         'thanks': 231,\n",
       "         'local': 231,\n",
       "         'gone': 230,\n",
       "         'all.': 230,\n",
       "         'super': 230,\n",
       "         'one,': 230,\n",
       "         'books': 229,\n",
       "         'among': 229,\n",
       "         'child': 228,\n",
       "         'however': 228,\n",
       "         'jack': 227,\n",
       "         'intriguing': 227,\n",
       "         'english': 226,\n",
       "         'questions': 226,\n",
       "         'older': 226,\n",
       "         'yes,': 225,\n",
       "         'white': 225,\n",
       "         'leaves': 225,\n",
       "         'seasons,': 224,\n",
       "         'is.': 224,\n",
       "         'shot': 223,\n",
       "         'performances': 223,\n",
       "         'king': 223,\n",
       "         'wrong': 222,\n",
       "         'single': 222,\n",
       "         'sets': 222,\n",
       "         'superb': 222,\n",
       "         'return': 221,\n",
       "         'keeping': 221,\n",
       "         'excellent.': 221,\n",
       "         'missing': 221,\n",
       "         'moving': 221,\n",
       "         'intelligent': 221,\n",
       "         'leads': 220,\n",
       "         'information': 220,\n",
       "         'life,': 220,\n",
       "         'became': 220,\n",
       "         'movie,': 220,\n",
       "         'pick': 219,\n",
       "         'usual': 218,\n",
       "         'cute': 218,\n",
       "         'them,': 218,\n",
       "         'secret': 218,\n",
       "         'city': 217,\n",
       "         'fiction': 217,\n",
       "         'said,': 217,\n",
       "         'blood': 216,\n",
       "         'former': 216,\n",
       "         'killing': 216,\n",
       "         'slow': 216,\n",
       "         'experience': 216,\n",
       "         'times.': 216,\n",
       "         'do.': 216,\n",
       "         'country': 215,\n",
       "         'adds': 215,\n",
       "         'unlike': 215,\n",
       "         'people.': 215,\n",
       "         'so,': 214,\n",
       "         'situations': 214,\n",
       "         'political': 213,\n",
       "         'learned': 213,\n",
       "         'whose': 212,\n",
       "         'engaging': 212,\n",
       "         'etc.': 212,\n",
       "         'walking': 212,\n",
       "         '13': 212,\n",
       "         'television.': 211,\n",
       "         'figure': 211,\n",
       "         'itself': 211,\n",
       "         'hooked.': 211,\n",
       "         'bbc': 211,\n",
       "         'thinking': 210,\n",
       "         'this,': 210,\n",
       "         'actors.': 210,\n",
       "         'creative': 209,\n",
       "         'problem': 209,\n",
       "         'much.': 209,\n",
       "         'fbi': 209,\n",
       "         'elements': 209,\n",
       "         '&#34;the': 209,\n",
       "         'level': 208,\n",
       "         'way,': 208,\n",
       "         'spy': 208,\n",
       "         'theme': 207,\n",
       "         'hoping': 207,\n",
       "         'tension': 206,\n",
       "         'kill': 206,\n",
       "         'sherlock': 206,\n",
       "         'compelling': 205,\n",
       "         'also,': 205,\n",
       "         'style': 205,\n",
       "         'late': 205,\n",
       "         'filled': 204,\n",
       "         'work.': 204,\n",
       "         'week.': 204,\n",
       "         'news': 204,\n",
       "         'now,': 203,\n",
       "         'instant': 203,\n",
       "         'sorry': 203,\n",
       "         'quirky': 203,\n",
       "         'follows': 202,\n",
       "         'typical': 202,\n",
       "         'feels': 202,\n",
       "         'again,': 202,\n",
       "         'crimes': 201,\n",
       "         'fun,': 201,\n",
       "         'guess': 201,\n",
       "         'longer': 201,\n",
       "         'social': 201,\n",
       "         'amazon.': 201,\n",
       "         'air': 201,\n",
       "         'art': 201,\n",
       "         'develop': 200,\n",
       "         'matt': 200,\n",
       "         'interesting,': 199,\n",
       "         'finale': 199,\n",
       "         'government': 199,\n",
       "         'age': 199,\n",
       "         'guest': 199,\n",
       "         'regular': 198,\n",
       "         'pull': 198,\n",
       "         'casting': 198,\n",
       "         'sister': 197,\n",
       "         'present': 197,\n",
       "         'dialogue': 197,\n",
       "         'reminds': 197,\n",
       "         'clear': 196,\n",
       "         'out,': 196,\n",
       "         'finding': 196,\n",
       "         'realize': 195,\n",
       "         'means': 195,\n",
       "         'audience': 195,\n",
       "         'business': 195,\n",
       "         'fairly': 195,\n",
       "         'holmes': 195,\n",
       "         'strange': 194,\n",
       "         'imagine': 194,\n",
       "         'watch,': 194,\n",
       "         'times,': 193,\n",
       "         'dramatic': 193,\n",
       "         'possible': 193,\n",
       "         'perfectly': 193,\n",
       "         'girls': 193,\n",
       "         'thoroughly': 192,\n",
       "         'admit': 191,\n",
       "         'solve': 191,\n",
       "         'sound': 191,\n",
       "         'drug': 191,\n",
       "         'above': 190,\n",
       "         'finished': 190,\n",
       "         \"show's\": 190,\n",
       "         'stories.': 189,\n",
       "         'amount': 189,\n",
       "         \"you've\": 189,\n",
       "         'york': 189,\n",
       "         'break': 189,\n",
       "         'bones': 189,\n",
       "         'cut': 188,\n",
       "         'added': 188,\n",
       "         'younger': 188,\n",
       "         'hannibal': 188,\n",
       "         'mike': 187,\n",
       "         'game': 187,\n",
       "         'background': 187,\n",
       "         'captain': 187,\n",
       "         'intense': 186,\n",
       "         'interaction': 186,\n",
       "         'clever': 186,\n",
       "         'did.': 185,\n",
       "         'yourself': 185,\n",
       "         'lewis': 185,\n",
       "         'picture': 184,\n",
       "         'middle': 184,\n",
       "         'actress': 184,\n",
       "         'her.': 184,\n",
       "         'title': 184,\n",
       "         'bosch': 183,\n",
       "         'mysteries': 182,\n",
       "         'tries': 182,\n",
       "         'six': 182,\n",
       "         'love,': 182,\n",
       "         'world.': 182,\n",
       "         'call': 182,\n",
       "         'archer': 182,\n",
       "         'tv,': 181,\n",
       "         'though.': 181,\n",
       "         'south': 180,\n",
       "         'grow': 180,\n",
       "         'fight': 180,\n",
       "         'lines.': 180,\n",
       "         'remains': 179,\n",
       "         'eventually': 179,\n",
       "         'addition': 179,\n",
       "         'tom': 179,\n",
       "         '10': 179,\n",
       "         'end,': 179,\n",
       "         'far.': 179,\n",
       "         'though,': 179,\n",
       "         'deep': 179,\n",
       "         '!': 179,\n",
       "         'laughing': 178,\n",
       "         'talking': 178,\n",
       "         'recent': 178,\n",
       "         'cancelled': 178,\n",
       "         'eyes': 177,\n",
       "         'talk': 177,\n",
       "         'on,': 177,\n",
       "         'romance': 177,\n",
       "         ...})"
      ]
     },
     "execution_count": 33,
     "metadata": {},
     "output_type": "execute_result"
    }
   ],
   "source": [
    "c1 - c2"
   ]
  },
  {
   "cell_type": "code",
   "execution_count": 34,
   "metadata": {
    "colab": {
     "base_uri": "https://localhost:8080/"
    },
    "executionInfo": {
     "elapsed": 43,
     "status": "ok",
     "timestamp": 1677621555773,
     "user": {
      "displayName": "Luis Ignacio Russo Locati",
      "userId": "15672299700269598283"
     },
     "user_tz": 180
    },
    "id": "72MjaElbdHAi",
    "outputId": "8eec7fe7-0e9c-4a5b-8d58-7eaae30637f6"
   },
   "outputs": [
    {
     "data": {
      "text/plain": [
       "[('the', 111578),\n",
       " ('and', 65248),\n",
       " ('a', 51203),\n",
       " ('to', 48099),\n",
       " ('of', 46127),\n",
       " ('is', 39508),\n",
       " ('', 38570),\n",
       " ('i', 37641),\n",
       " ('this', 27550),\n",
       " ('in', 25745),\n",
       " ('it', 24589),\n",
       " ('that', 20556),\n",
       " ('for', 16400),\n",
       " ('with', 16095),\n",
       " ('as', 15452),\n",
       " ('are', 13687),\n",
       " ('but', 13524),\n",
       " ('on', 13471),\n",
       " ('you', 12334),\n",
       " ('show', 11962)]"
      ]
     },
     "execution_count": 34,
     "metadata": {},
     "output_type": "execute_result"
    }
   ],
   "source": [
    "ind_words_1"
   ]
  },
  {
   "cell_type": "markdown",
   "metadata": {
    "id": "axcMJfOdAbn-"
   },
   "source": [
    "Notamos que muchas de las palabras son obviamente indicativas de una mala película, como \"horrible\", \"decepción\", \"horrible\". \"Canjeable\" es una palabra interesante que no tiene una asociación negativa obvia, pero probablemente indica que incluso en las críticas negativas, los revisores tienden a hablar de \"una característica de redimir algo\" (o afirman que la película). También hay algo de ruido en los datos, como es normal en los datos de texto. \"g\" y \"shao\" no parecen palabras significativas."
   ]
  },
  {
   "cell_type": "markdown",
   "metadata": {
    "id": "gbfriAc0AnV3"
   },
   "source": [
    "Inspeccionemos manualmente las primeras 10 reseñas negativas que contengan la palabra \"buena\". ¿Que notaste? ¿Cómo sugiere esto que debemos proceder a continuación?"
   ]
  },
  {
   "cell_type": "markdown",
   "metadata": {
    "id": "FVuwclyjAxwj"
   },
   "source": [
    "Una posible solución se da a continuación. Tenga en cuenta que el uso de códigos de escape Ansi para colorear es un \"buen extra\" y no se espera necesariamente de las soluciones de los estudiantes:"
   ]
  },
  {
   "cell_type": "code",
   "execution_count": 35,
   "metadata": {
    "colab": {
     "base_uri": "https://localhost:8080/"
    },
    "executionInfo": {
     "elapsed": 511,
     "status": "ok",
     "timestamp": 1677621556267,
     "user": {
      "displayName": "Luis Ignacio Russo Locati",
      "userId": "15672299700269598283"
     },
     "user_tz": 180
    },
    "id": "WQjJqXNFAqA4",
    "outputId": "df271cf9-f71a-405c-a422-f296ed382c77"
   },
   "outputs": [
    {
     "name": "stdout",
     "output_type": "stream",
     "text": [
      "326\n",
      "\u001b[91mgood\u001b[0m job with good production values, casting and \n",
      "neveryone..the story line is fine and the writing \u001b[91mgood\u001b[0m for the set up.I love the parents and always \n",
      "ould be fun if she wasn't so hateful inside.  Not \u001b[91mgood\u001b[0m.  Yuck.\n",
      "too much nudity and sex in it. The story line was \u001b[91mgood\u001b[0m but didn't enjoy the rest.\n",
      " extreme as that character is. If you wanna see a \u001b[91mgood\u001b[0m portrayal of that disease watch Parenthood or\n",
      " somehow get better.  It doesn't.  The premise is \u001b[91mgood\u001b[0m.  It could have been a good show.  But it is \n",
      "he dialog. all of it. and the girls. not hot, but \u001b[91mgood\u001b[0m for stripper quality i guess.\n",
      "de SYFY but what I got was just terrible. Nothing \u001b[91mgood\u001b[0m about this piece of crap.\n",
      "organ are just not funny at all.  Alec Bladwin is \u001b[91mgood\u001b[0m and kind of funny, but it's almost like you f\n",
      "tempt to be taken seriously, it could have been a \u001b[91mgood\u001b[0m comic satire.\n",
      "onwhacko conspiracy type plot and bad corporation,\u001b[91mgood\u001b[0m citizen defending the \"wetlands\" and nature.C\n",
      "y crash are being wasted that could be used for a \u001b[91mgood\u001b[0m purpose.\n",
      "ipping for a season of less than 14 episodes. The \u001b[91mgood\u001b[0m thing is that Amazon and other sources sell n\n",
      "pinion on Prop 8, shut up and get back to being a \u001b[91mgood\u001b[0m show!Oh and my personal favorite episode the \n",
      "\u001b[91mgood\u001b[0m in this role, and it's not the first time he \n",
      "the movie \"This must be the Place\" and that was a \u001b[91mgood\u001b[0m movie with dark comedy.  There was also plent\n",
      "\u001b[91mgood\u001b[0m but this isn't even bad good.  Not worth the \n",
      " with awful cover songs, etc etc.1. The supposed \"\u001b[91mgood\u001b[0m guys\" are gun brokers to gangs and murderers \n",
      "T'S SO UPROARIOUSLY GUT-BUSTINGLY KNEE-SLAPPINGLY \u001b[91mGOOD\u001b[0m! I ALSO LOVE DAVE 'N BUSTERS, THEIR FOOD IS S\n",
      " and there is just no chemistry.  The actors do a \u001b[91mgood\u001b[0m job with what they have to work with but it i\n",
      "er characters are just as bad. In fact, no one is \u001b[91mgood\u001b[0m at all. A blonde bimbo always doubting her me\n",
      "oor sci-fi/fantasy fans. There's so little really \u001b[91mgood\u001b[0m stuff to watch, that some of us will take any\n",
      "e critical elements (or ingredients) that go into \u001b[91mgood\u001b[0m story-telling and consequently the show was n\n",
      "lle and Jeff Dunham was that Chappelle was really \u001b[91mgood\u001b[0m at this. When Dunham takes his characters out\n",
      "me to something that would be interesting, funny, \u001b[91mgood\u001b[0m.... Just when I thought it couldn't get any s\n",
      " the acting was well done. I was surprised by how \u001b[91mgood\u001b[0m they were. Bravo to the actors. As for the re\n",
      "inted wouldn't recommend it at all! It downloaded \u001b[91mgood\u001b[0m but other than that it isn't worth any ones t\n",
      "he one story line with another with an artificial \u001b[91mgood\u001b[0m guy - bad guy - cute girl love triangle seems\n",
      "e with other comments about how this video is not \u001b[91mgood\u001b[0m for the family to watch.  Moral values of thi\n",
      "ound and sound mixing is terrible. The premise is \u001b[91mgood\u001b[0m but the execution couldn't have been worse. W\n",
      "online to even know what was going on. We spent a \u001b[91mgood\u001b[0m part of the time saying to each other, &#34;W\n",
      "picious town folk; homespun priest; Selkie brings \u001b[91mgood\u001b[0m luck to the fisherman and daughter; criminal \n",
      "ence resources, years of analysis, and unexpected \u001b[91mgood\u001b[0m fortune to finally make breakthrough in findi\n",
      "e of time. It's a pity because the trailer looked \u001b[91mgood\u001b[0m and Lenora Watling is certainly easy to look \n",
      "\u001b[91mgood\u001b[0m but it was bad. The gratuitous sex was unnece\n",
      "te of Publius Quinctilius Varus, no general but a \u001b[91mgood\u001b[0m administrator. Marching deep into the Teutobu\n",
      "opped looking to network or ad absed channels for \u001b[91mgood\u001b[0m TV. Of course AMC has some exceptions as does\n",
      "ine for most of Amazon's items, but the Event had \u001b[91mgood\u001b[0m picture and no sound. Amazon refused to get i\n",
      "\u001b[91mgood\u001b[0m things on this show was actor Stephen Dorf.  \n",
      " episode can entice.  I would rather be reading a \u001b[91mgood\u001b[0m book.\n",
      "out the way realtors rip off their clients in the \u001b[91mgood\u001b[0m old American home-selling scheme. While I fou\n",
      "ever get back, you know what im saying? There are \u001b[91mgood\u001b[0m creature movies and bad ones, even some of th\n",
      "ught was worse.  Its hard for me to find anything \u001b[91mgood\u001b[0m to say about it, so I'll make this review sho\n",
      "oman.  What?Even worse is that whenever something \u001b[91mgood\u001b[0m happens such as this, the writing completely \n",
      "ything once.Once is too much.The story is about a \u001b[91mgood\u001b[0m cop who gets framed by the evil owner of a gi\n",
      "several candidates, the aliens were silent...And, \u001b[91mgood\u001b[0m people, if the aliens are so damn sophisticat\n",
      "on one:  why did they survive?  They then spend a \u001b[91mgood\u001b[0m amount of time stumbling and mumbling through\n",
      "\u001b[91mgood\u001b[0m to say but since I have to fill this space wi\n",
      "\u001b[91mgood\u001b[0m, either.  I was expecting a romantic COMEDY a\n",
      "roducers have to tell, I'm not going to give it a \u001b[91mgood\u001b[0m rating.\n",
      "g happens for about 75% of the time.The pilot was \u001b[91mgood\u001b[0m and I had such hopes for that show.. well, th\n",
      "inning smile, a nice sound track, and some pretty \u001b[91mgood\u001b[0m photography. But those three qualities could \n",
      "kind of a way, but I really can't recommend it as \u001b[91mgood\u001b[0m cinema.\n",
      "sis? Greg Kinnear as JFK? I like Kinnear, he does \u001b[91mgood\u001b[0m light comedy, but that's not what's called fo\n",
      "ng and directing .. American Mary .... That was a \u001b[91mgood\u001b[0m movie ... This is just a waste of $$ and time\n",
      "easy to delete any worthwhile comments about this \u001b[91mgood\u001b[0m-for-nothing presentation of an egotist and en\n",
      "\u001b[91mgood\u001b[0m thing to say about this production.  Unless i\n",
      "ional engaging show. The first three seasons were \u001b[91mgood\u001b[0m overall and this one is a plane going down in\n",
      "n plays a sexist, homophobic, xenophobic sporting \u001b[91mgood\u001b[0ms executive, I had the following thoughts:1)Al\n",
      "lity of the show; the writing just didn't seem as \u001b[91mgood\u001b[0m.  Now with season 9 on DVD I see a huge falli\n",
      "eo.The drama, the acting and the writing seems as \u001b[91mgood\u001b[0m as last season, but the picture quality is so\n",
      "emed like an afterthought finish. Great, and even \u001b[91mgood\u001b[0m, movies pay attention to details and not just\n",
      "d why anyone, ANYONE, would think that that was a \u001b[91mgood\u001b[0m idea.  As a film director, how can you justif\n",
      " wrote this?My guess would be somewhere around 12.\u001b[91mGood\u001b[0m ghost films are rare to be sure, and some mak\n",
      "eresting, the characters were fine and the acting \u001b[91mgood\u001b[0m, but the story was just not up to par, could \n",
      " anti abortion propaganda, and do the disapearing \u001b[91mgood\u001b[0m christians in the rapture bit.A 'mad scientis\n",
      " appears to be a \"come to Jesus film\" except the \"\u001b[91mgood\u001b[0m guys\" do nothing heroic to save the day or th\n",
      "an background redo this into what could be a very \u001b[91mgood\u001b[0m movie. And just because a movie makes you thi\n",
      "o I set it to record on our FIOS.  It started out \u001b[91mgood\u001b[0m.  I was interested in what was going on.  The\n",
      "rse. It is amazing that I can't even think of one \u001b[91mgood\u001b[0m thing to say about it. Thank goodness it wasn\n",
      "in fact made by teen agers, koodos to them a very \u001b[91mgood\u001b[0m effort.  If however it is a professional prod\n",
      "e so successful. If someone can make a judgement (\u001b[91mgood\u001b[0m or bad) based on a film which lacks both cont\n",
      "l out & he was left holding the red wig.Also, the \u001b[91mgood\u001b[0m-looking Prince/king was no were near being th\n",
      " performances and some beautiful scenery cannot a \u001b[91mgood\u001b[0m film make.  This bore of a tale never fully g\n",
      "tle to do with hunting a rare tiger. Are there no \u001b[91mgood\u001b[0m writers left in Hollywood??? Boring and a tot\n",
      "\u001b[91mgood\u001b[0mness for that. The plot was too silly (over an\n",
      "so bad....dont want to waste time explaining it...\u001b[91mgood\u001b[0m concept?!?! but ultimately really really awfu\n",
      " giving a show a chance, but not this one.Update: \u001b[91mGood\u001b[0m for ABC. They canceled this garbage!!\n",
      "ed by flaming meteors ). Cool picture..could be a \u001b[91mgood\u001b[0m film....NOTSad ...very Sad...  and you will b\n",
      "shot.-lots of tv clips of interviews... this is a \u001b[91mgood\u001b[0m 1/3 of the movie and serves no point what-so-\n",
      "ct of multiple infatuations amongst boys and gets \u001b[91mgood\u001b[0m grades, and she lives a teeny-bopper's dream \n",
      "ept writing, willful unpleasantry and a couple of \u001b[91mgood\u001b[0m actors who are cashing checks and hoping no o\n",
      "e is that it blatantly violates the first rule of \u001b[91mgood\u001b[0m storytelling, which is show, don't tell. In m\n",
      "ch will bring you to tears.There is absolutely no \u001b[91mgood\u001b[0m value comming from this movie.The whole movie\n",
      " to branch off into too much and it just isn't as \u001b[91mgood\u001b[0m.\n",
      "\u001b[91mgood\u001b[0m standup comedian that knows how to deliver re\n",
      "wful dialogue, and horrible acting...and not in a \u001b[91mgood\u001b[0m way\n",
      "the pact was and who made it. It just wasn't that \u001b[91mgood\u001b[0m. The acting was sub par especially for who th\n",
      "being a bit stereo typed, the &#34;bad cop turned \u001b[91mgood\u001b[0m&#34; and the &#34;conflicted girl with a hear\n",
      "llywood standard \"white man bad - Native American \u001b[91mgood\u001b[0m\"  tripe. Tiring. Another episode they let a b\n",
      "mm nwhat happened to all the wholesome,oldies but \u001b[91mgood\u001b[0mies showes?\n",
      "\u001b[91mgood\u001b[0m story line. I could not get into the story. a\n",
      "rected by Jonathan Teplitzky and starring Matthew \u001b[91mGood\u001b[0me.The film begins with a shot of Goode's agoni\n",
      " upside?  The market continues to be flooded with \u001b[91mgood\u001b[0m and ... erm ... let's say \"less than good\" pr\n",
      "t a cheap marketing ploy.I wanted this show to be \u001b[91mgood\u001b[0m but it is not. I saw season one and was bored\n",
      "f a favor and watch something that makes you feel \u001b[91mgood\u001b[0m about life and humanity.  This only made me f\n",
      "\u001b[91mgood\u001b[0m pic, no good view, nothing, bunch of good act\n",
      "of this as i felt it was not worth my time. Not a \u001b[91mgood\u001b[0m choice.\n",
      "fe.  Time just got sucked out of me and I have no \u001b[91mgood\u001b[0m an happy feeling, or deep and meaningful refl\n",
      " the characters. It doesn't really work since any \u001b[91mgood\u001b[0mwill the movie generated had long since evapor\n",
      "e , not funny at all , the beginning started well \u001b[91mgood\u001b[0m but then it turn into garbage\n",
      " this rather than take the time to craft a really \u001b[91mgood\u001b[0m anthology series. Don't get me wrong. There a\n",
      "o make into the next awesome movie.  Why not do a \u001b[91mGOOD\u001b[0m Vampirella movie since we've got the whole su\n",
      "\u001b[91mgood\u001b[0m reviews from other sites about this movie..th\n",
      " the surgery.  It's called 'malpractice,' and for \u001b[91mgood\u001b[0m reason: if a cancer is thought to be so urgen\n",
      "Cannot understand who would give 4 stars, not any \u001b[91mgood\u001b[0m\n",
      "n idiot job... sorry about wasting your perfectly \u001b[91mgood\u001b[0m educationon a TV show. Probably getting paid \n",
      "ore they even got popular. I never come up with a \u001b[91mgood\u001b[0m answer to the question (and I'm never lucid l\n",
      "t of like the book &#34;on the beach&#34; but not \u001b[91mgood\u001b[0m. It was cancelled quick which should tell you\n",
      "e episodes after are typical but all still pretty \u001b[91mgood\u001b[0m. And then.... \"Another Fine Navy Day\". In thi\n",
      "wholesome than yet another TV series in which the \u001b[91mgood\u001b[0m guys blast away at all & sundry with a never-\n",
      " of horror, blood, and gore. The first season was \u001b[91mgood\u001b[0m, but from the second season on...it has sunk \n",
      "it is Amazons fault, just a real bad movie. Had a \u001b[91mgood\u001b[0m story line they could have done so much more.\n",
      "s a popular series? There is sooo much TV that is \u001b[91mgood\u001b[0m, why does this get good ratings??!!\n",
      "ssing it's going to end very badly, like too many \u001b[91mgood\u001b[0m TV shows do.I can't stand how they just keep \n",
      "\u001b[91mgood\u001b[0m old boys.  Cops was an excellent reality show\n",
      "g about Grave Encounters and going loco about how \u001b[91mgood\u001b[0m or bad it was and how some were convinced it \n",
      "ems like so little effort went into making this a \u001b[91mgood\u001b[0m picture. It feels like someone realized they \n",
      "nt all that,i wouldnt recommend it at all.its not \u001b[91mgood\u001b[0m\n",
      "doggle!  This one starts out better and with more \u001b[91mgood\u001b[0m moments of human interest.  But, and this is \n",
      " program. I find that British shows can be really \u001b[91mgood\u001b[0m or boring.\n",
      "iption before I purchased it, but was expecting a \u001b[91mgood\u001b[0m and possibly realistic drama about the period\n",
      "unable to rate this program. It looks like a very \u001b[91mgood\u001b[0m program, one worth watching but I did not.\n",
      "bove average sci-fi/action movie, nowhere near as \u001b[91mgood\u001b[0m as its predecessor Regeneration, though. Howe\n",
      "m? WTF??? A new guy with Van Dam moves is the new \u001b[91mgood\u001b[0m guy? Who wrote this? And have they even seen \n",
      "when it seems to make sense and promise something \u001b[91mgood\u001b[0m, it flops and drags and makes no sense.If you\n",
      "\u001b[91mgood\u001b[0m film. low budget, poor script, mediocre actin\n",
      "\u001b[91mgood\u001b[0m director in the past. This film misses the ma\n",
      " far more both knowledgeable about what makes for \u001b[91mgood\u001b[0m horror and what is more have a keen eye for c\n",
      "ful dialogue. And David Hunt gives one of the few \u001b[91mgood\u001b[0m performances as Burton's tragic brother Ifor.\n",
      "y, Lindsay Lohan. Who ever thought she would do a \u001b[91mgood\u001b[0m job at playing Elizabeth Taylor must've had a\n",
      "e dark storage building was supposed to lend some \u001b[91mgood\u001b[0m atmosphere to this typical plot, but there's \n",
      "lity with our guest from another world.So far, so \u001b[91mgood\u001b[0m, but that's all about to change. because in n\n",
      "hese fraudulent \"mystery-documentaries\" do a very \u001b[91mgood\u001b[0m job of convincing you that they actually beli\n",
      "e whole season first, but I've always liked Megan \u001b[91mGood\u001b[0me as an actress and assumed this would be GREA\n",
      " of lard Abby, unless it somehow makes \"HER\" look \u001b[91mgood\u001b[0m. The child is all but forgotten amidst all th\n",
      "atched the first episode and kept waiting for the \u001b[91mgood\u001b[0m guys, i.e. ordinary citizens fighting a world\n",
      "the anti corporation Liber8 (lame name!) and the \"\u001b[91mgood\u001b[0m guys\" are corporations?! Really? Is this show\n",
      "t can only get better. Need to see more. Could be \u001b[91mgood\u001b[0m.\n",
      "his and maybe think that some of this stuff was a \u001b[91mgood\u001b[0m idea.  I know I only saw one episode, but it \n",
      "ave that answer up to the audience, then it did a \u001b[91mgood\u001b[0m job.  I would like to ask C.J. Hunt, are you \n",
      "\u001b[91mgood\u001b[0m as I hoped.  It really boiled down to ...don'\n",
      "t have lingered on shelves for years that sounded \u001b[91mgood\u001b[0m but never got made. Then I realize that someo\n",
      "I'm not sure I can cover it all, none of which is \u001b[91mgood\u001b[0m. The only good thing about the show is that t\n",
      ". unplausible. BLOOD, BLOOD and more blood for no \u001b[91mgood\u001b[0m reason. Hannibal Lector was a much more class\n",
      "ver made this show needs to put them in something \u001b[91mgood\u001b[0m. The concept of the ultra genius serial kille\n",
      "\u001b[91mgood\u001b[0m reviews....This is definitely the WORST piece\n",
      "er reviewers again! \"Lots of cool facts\". Geezus. \u001b[91mGood\u001b[0m people, there are arguably *no* true facts in\n",
      "of the show!that is as far as I got. If you want. \u001b[91mgood\u001b[0m, decent, quality viewing....do not watch this\n",
      "ng cover and makeup , the writers wouldn't know a \u001b[91mgood\u001b[0m script if they saw one , and this is just dir\n",
      " opening credits, the kind that think volume is a \u001b[91mgood\u001b[0m substitute for craft.I'm not sure what the po\n",
      "t) Then the horrific scene at that Viking temple (\u001b[91mgood\u001b[0m lawd!) Seriously, the &#34;fake blood&#34; ex\n",
      "that has tried to tout itself as a \"family film\". \u001b[91mGood\u001b[0m grief it was bad. How bad was it? The most mo\n",
      "\u001b[91mgood\u001b[0m, and the story line for the premiere was also\n",
      "\u001b[91mgood\u001b[0m but fifteen minutes into the first episode th\n",
      "w Revolution and Falling Skies. But not nearly as \u001b[91mgood\u001b[0m.\n",
      "nterest in real state and this show provide me a  \u001b[91mgood\u001b[0m points to get to know the value of properties\n",
      "aracter slowly goes mad from isolation might be a \u001b[91mgood\u001b[0m place to start to draw the viewer in their th\n",
      "\u001b[91mgood\u001b[0m story telling, namely telling.  Explains ever\n",
      "\u001b[91mgood\u001b[0m. Then to make up for it, the characters are t\n",
      "irl showed up just as I was about to click it off.\u001b[91mGood\u001b[0m bye, do not make more episodes. Winnowing wee\n",
      "\u001b[91mgood\u001b[0m. I always like to learn something about the i\n",
      "ough to make the songs work, but they aren't very \u001b[91mgood\u001b[0m songs and I am not even sure they were trying\n",
      "numbers aside, the young actors just are not very \u001b[91mgood\u001b[0m. Remotely, the only saving grace is the actre\n",
      "s. Here's a short list -1. It's a musical. I love \u001b[91mgood\u001b[0m musicals, but I hate bad ones. This is a bad \n",
      "ke it. I'm not a fan of musicals. This would be a \u001b[91mgood\u001b[0m show without all of the singing. Just not my \n",
      ", but a wholly original creation (with all of the \u001b[91mgood\u001b[0m and bad things that entails). You don't end u\n",
      "nxious. Singing on the streets of busy NY...Not a \u001b[91mgood\u001b[0m combination...\n",
      "omething we can relate to, then they need to have \u001b[91mgood\u001b[0m music to help tell that story. When you have \n",
      "s in on the music joke.\"  But sadly they didn't.  \u001b[91mGood\u001b[0m voices but this was a mish mash of wrongness.\n",
      "\u001b[91mgood\u001b[0m about this show!!! It's offensive, dumb, not \n",
      "his was no different.  In cartoon type shows, how \u001b[91mgood\u001b[0m it looks is just as important as any characte\n",
      " &#34;comic-like&#34; shows, but this one was not \u001b[91mgood\u001b[0m.  I disliked the story line/writing and it wa\n",
      "front of the viewer in a comedic setting would be \u001b[91mgood\u001b[0m enough to get us to throw money at them.  It \n",
      "ame sense of humor and don't like to watch actual \u001b[91mgood\u001b[0m comedy, then Dark Minions is where it's at fo\n",
      "on news, but this just doesn't translate the same.\u001b[91mGood\u001b[0m luck next time.\n",
      ", trite humor.  I watched it because, with such a \u001b[91mgood\u001b[0m rating, it was bound to be entertaining.  I c\n",
      "life. This was just dumb and uninteresting--a few \u001b[91mgood\u001b[0m one-liners, but they weren't enough to sustai\n",
      "eople don't try to be cool, they just are.  Truly \u001b[91mgood\u001b[0m shows don't try to prove anything to you, the\n",
      "\u001b[91mgood\u001b[0m pilot has a difficult but straightforward job\n",
      "\u001b[91mgood\u001b[0m. This was not crazy enough to be satire and w\n",
      "ed it from being a predictable snoozer.Sorry John \u001b[91mGood\u001b[0mman, you were only funny as Dan Connor. Where \n",
      "cheesy and flat....Slow pace....Too much filler...\u001b[91mGood\u001b[0m camera work...Do not recommend\n",
      "ill Murray in the opening sequence. You have John \u001b[91mGood\u001b[0mman. Some other decent actors. The premise is \n",
      ".and he's not even going to be on the show.. John \u001b[91mGood\u001b[0mman hasn't done anything worth watching since \n",
      "\u001b[91mgood\u001b[0m cast. the writing is third rate. vulgar langu\n",
      "nded of the paradigm; Republi-cate BAD, Demo-ican \u001b[91mGOOD\u001b[0m, soooo original---Thanks 'Doomberry', I forgo\n",
      "\u001b[91mGood\u001b[0mman, but that's only good for 5 minutes.  A co\n",
      "ght Garry Tradeau might be able to put together a \u001b[91mgood\u001b[0m story, but clearly his limits are confined to\n",
      "\u001b[91mgood\u001b[0m show about the political scene in Wasington D\n",
      "\u001b[91mGood\u001b[0mman and Bill Murray you ruined it. There was n\n",
      "\u001b[91mgood\u001b[0m about himself.  Republicans and Tea Partiers \n",
      " many of our representatives that attempt to do a \u001b[91mgood\u001b[0m day's work without all the bad language and d\n",
      "t. It completely ruined what ought to have been a \u001b[91mgood\u001b[0m show.  Thumbs down, and NO MORE Amazon shows \n",
      "\u001b[91mGood\u001b[0mman sold out to the right wing nuts for this s\n",
      "thing will be remembered. Sad day for Fanning (or \u001b[91mgood\u001b[0m if you like money).\n",
      "enes. The use of color is incredible.With so many \u001b[91mgood\u001b[0m things going for it, I still cannot recommend\n",
      "ived and set-up. Sadly, that network started with \u001b[91mgood\u001b[0m intentions, but fell victim wanting to produc\n",
      "for my mom, step father and I.  It started out so \u001b[91mgood\u001b[0m.  But as it went in, it got worse and worse. \n",
      "s portrayed then how it played out was not at all \u001b[91mgood\u001b[0m. It was ok.\n",
      "\u001b[91mGood\u001b[0m actors, poor acting. It was just kind of dumb\n",
      "and thenre-emerged with &#34;The Wrestler&#34;, a \u001b[91mgood\u001b[0m movie.  Then this came out and I thoughtI'd g\n",
      "ng that was real at all.  The acting was not very \u001b[91mgood\u001b[0m at all and the casting was even worst.  I hat\n",
      "ginal show Primeval which ran on BBC. I cannot in \u001b[91mgood\u001b[0m conscious recommend this show to any one, mer\n",
      "er to load.  So disappointing.  You have a lot of \u001b[91mgood\u001b[0m HBO shows available now but there are so many\n",
      "rly third season - has great credentials and is a \u001b[91mgood\u001b[0m enough writer to know what to change from the\n",
      "more ratings. The premise of the show was already \u001b[91mgood\u001b[0m. The addition of this other stuff was unneces\n",
      "or imagination of any kind.  A cheap version of a \u001b[91mgood\u001b[0m sci-fi movie.\n",
      "the only decent and believable characters are the \u001b[91mgood\u001b[0m looking secretive guy and the teenage boy try\n",
      "son (he's evil, but maybe..just maybe he could be \u001b[91mgood\u001b[0m.  Got it--Boredom).  We don't care about the \n",
      "e acting is truly awful in nearly all cases. Many \u001b[91mgood\u001b[0m series with good writing, good stories, good \n",
      "\u001b[91mgood\u001b[0m stories of his. As usual, TV/movie adaptation\n",
      "\u001b[91mgood\u001b[0m note with the premise of a small town engulfe\n",
      "emake... But to be fair, the first 3 minutes were \u001b[91mgood\u001b[0m, but from then on, horrible..\n",
      "\u001b[91mgood\u001b[0m in it to watch.  Definitely different from al\n",
      "eally been explored before. And the writers did a \u001b[91mgood\u001b[0m job, for a while. But - and this is what gave\n",
      "such a great cast I thought this movie would be a \u001b[91mgood\u001b[0m choice.  I was very disappointed.  Don't wast\n",
      "ltimately the movie does nothing to make you feel \u001b[91mgood\u001b[0m and ultimately the laughs are hollow.Of cours\n",
      "uld differ(a little spice added or at least be as \u001b[91mgood\u001b[0m) from the original. But unfortunately, it con\n",
      "whats worse....is WHO would watch it.?? There are \u001b[91mgood\u001b[0m shows with excellent writers, and it's hard t\n",
      " this, but it did not make sense.  The acting was \u001b[91mgood\u001b[0m, but the story dragged and was way too deep f\n",
      "duction...... but to do that, it would have to be \u001b[91mgood\u001b[0m. And it's not. Instead it feels like Ellis is\n",
      " playing her role but then again it wasn't a very \u001b[91mgood\u001b[0m role if you ask me. Not one that I was impres\n",
      "\u001b[91mgood\u001b[0m show before this season which is sinking quic\n",
      "at a few locations, the show profits are probably \u001b[91mgood\u001b[0m but they are constantly having to be very inv\n",
      "ackground music/singing I found this program very \u001b[91mgood\u001b[0m.\n",
      "d died the season became too serious for it's own \u001b[91mgood\u001b[0m and stopped being a comedy and tried to rely \n",
      "it to Amazon they refunded my $3.99. Amazon is so \u001b[91mgood\u001b[0m about this! The movie is about this Psycholog\n",
      "which of the diminutive actors was taller.  Not a \u001b[91mgood\u001b[0m sign for a situation comedy.The Cast:The Boys\n",
      "u  pay for an episode and you get FOX ads - not a \u001b[91mgood\u001b[0m thing.They kill off Clancy Brown in the first\n",
      "evable and simplistic. Plots have no depth, e.g., \u001b[91mgood\u001b[0m guys kill/capture bad guys.On the other hand,\n",
      "ng that even though he was cranky, he was still a \u001b[91mgood\u001b[0m person.  I don't remember a lot of the plots \n",
      "\u001b[91mgood\u001b[0m reviews it isn't even the slightest bit funny\n",
      " extreme as that character is. If you wanna see a \u001b[91mgood\u001b[0m portrayal of that disease watch Parenthood or\n",
      "\u001b[91mgood\u001b[0m ideas, but it's spoiled by poor writing, cont\n",
      "ters that no one really likes? The acting is very \u001b[91mgood\u001b[0m but the characters are 2-dimentional and unin\n",
      "\u001b[91mgood\u001b[0m. There was potential here to create something\n",
      "ch have been sitting EVERYWHERE or, better yet, a \u001b[91mgood\u001b[0m old Army 2 1/2 ton truck with a White multifu\n",
      "reat fun, because it reveled in the things that a \u001b[91mgood\u001b[0m horror story can do. The guy trapped under th\n",
      "\u001b[91mgood\u001b[0m word to describe it. There is nothing good ab\n",
      "p. The show where Ryan and his wife was also very \u001b[91mgood\u001b[0m.\n",
      "iting and uninteresting scenarios.  If you need a \u001b[91mgood\u001b[0m eye-rolling workout, watch it.  If not, avoid\n",
      "\u001b[91mgood\u001b[0m as I had hoped.  Seems to have lost its appea\n",
      "\u001b[91mgood\u001b[0m. I thought it would be like Merlin from BBC, \n",
      "chlocky and cheesy, and not in a &#34;so bad it's \u001b[91mgood\u001b[0m&#34; way either.  The entire cast doesn't spe\n",
      "hat you should leave your husband because he's no \u001b[91mgood\u001b[0m.&#34; If Theresa, oh, sorry, the dead people,\n",
      "ld not finish watching this movie. It started out \u001b[91mgood\u001b[0m but lost its focus. All I can say is never tr\n",
      "venture into the absurd -- geez, at least if were \u001b[91mgood\u001b[0m tongue-in-cheek! -- manages to last  through \n",
      "and pass this one by, it was not well made or any \u001b[91mgood\u001b[0m acting in it.\n",
      "n't see the military fighting anyone but they are \u001b[91mgood\u001b[0m at putting all of Britain into gathering vege\n",
      "low and boring. The character development was not \u001b[91mgood\u001b[0m at all. And it bothered me that she started s\n",
      " yelling to get a response. either way its not as \u001b[91mgood\u001b[0m as I thought it would be. The people make the\n",
      "s are almost impossible to kill. If I hadn't paid \u001b[91mgood\u001b[0m money to watch this thing, I would have baile\n",
      "\u001b[91mgood\u001b[0m, directing was great.  But...please, another \n",
      "And while it stars two actors that I adore, their \u001b[91mgood\u001b[0m performances couldn't save this wretched pile\n",
      "il, on drugs in an alley, or in the grave wasting \u001b[91mgood\u001b[0m earth.There is nothing redeeming about this s\n",
      "\u001b[91mGOOD\u001b[0m! BUT I WOULD NOT KNOW SINCE I DIDNT GET TO WA\n",
      "LY DON'T THINK SO IN 1947THE NIGHT CUB MUSIC VERY \u001b[91mGOOD\u001b[0m\n",
      "and had nothing to do with the story. They took a \u001b[91mgood\u001b[0m idea, and turned it into a B movie.  What a s\n",
      "Bravo could come up with someone who was really a \u001b[91mGOOD\u001b[0m matchmaker because the concept is soooo good.\n",
      "given. Seriously, not only is there more than one \u001b[91mgood\u001b[0m dancer on the TEAM, for Abby to think that sh\n",
      "supporting the joke, but we don't because to give \u001b[91mgood\u001b[0m story and characters the production team woul\n",
      "COMMERCIALS. Fire the person who thought it was a \u001b[91mgood\u001b[0m idea.\n",
      "a show about magic dust that makes the characters \u001b[91mgood\u001b[0m singers and dancers 1) hire good singers to s\n",
      "r \"Amazon original\" series is full of swearing!)  \u001b[91mGood\u001b[0m cast but horrendous acting, horrible script, \n",
      "\u001b[91mgood\u001b[0m cinematography.  Horrible plot line and stupi\n",
      " &#34;Why&#34; Amazon.  You take something really \u001b[91mgood\u001b[0m & have good potential of becoming the first s\n",
      "ansion, the 200,000 stand-ins, and these cameras. \u001b[91mGood\u001b[0m thing we didn't RENT the cameras, or they'd b\n",
      "ped to get a winner from these pilots, so far, no \u001b[91mgood\u001b[0m.\n",
      "nd without Fox and Dana that note is not sounding \u001b[91mgood\u001b[0m at all.\n",
      "with an extremely open mind. There are many other \u001b[91mgood\u001b[0m selections for amazon to pick up and I really\n",
      "liked the story line and I thought the acting was \u001b[91mgood\u001b[0m, especially that of the lead actress, who pla\n",
      "ters banding together and STAYING together for no \u001b[91mgood\u001b[0m reason, the show tosses in a***SPOILERS***bir\n",
      "-of-the-week\" episodes.Carter didn't make X-Files \u001b[91mgood\u001b[0m, it was good in spite of him.\"The After\" has \n",
      "\u001b[91mgood\u001b[0m combination for success. Couldn't bear to wat\n",
      "\u001b[91mgood\u001b[0m. Good acting and some big actors but all and \n",
      "on't last long on this one. If you love this show \u001b[91mgood\u001b[0m for you, this is my opinion, you don't have t\n",
      "\u001b[91mgood\u001b[0m actor. But I couldn't get to the end. Boring.\n",
      "o-talent actress with incomprehensible accent and \u001b[91mgood\u001b[0m legs, all thrown together when the electricit\n",
      "\u001b[91mgood\u001b[0m shows out there about the end of the world as\n",
      "and Hustle), but the lines are so tired that even \u001b[91mgood\u001b[0m acting can't overcome it.After about 30s of b\n",
      "\". I like quirky shows very much.  The acting was \u001b[91mgood\u001b[0m but this show fell short. Sorry\n",
      " but I wouldn't want to see anymore.  It did have \u001b[91mgood\u001b[0m acting and some different characters but just\n",
      "aze, filth and foul- aren't my thing.Shame on the \u001b[91mgood\u001b[0m reviews....I need 75-500 words for this revie\n",
      "ill show that the people behind it must have some \u001b[91mgood\u001b[0m blackmail.\n",
      "Nudity, the rest left me wanting. The writing was \u001b[91mgood\u001b[0m, but the story and characters didn't hook me \n",
      "\u001b[91mgood\u001b[0m talented actors.  Story line was so weak the \n",
      "suburbs of too much of everything ville. A bit of \u001b[91mgood\u001b[0m acting here and there if you like the distrau\n",
      "ot laugh, I never even cracked a smile.Reasonably \u001b[91mgood\u001b[0m acting, good camera work, good sound.  But al\n",
      "\u001b[91mgood\u001b[0m show for an audience other than me. I just do\n",
      " butts we can take any time as long as there is a \u001b[91mgood\u001b[0m story somewhere... But this show was lost btw\n",
      "decided this needed a pilot, they must be on some \u001b[91mgood\u001b[0m drugs. What would be the plot lines progressi\n",
      "e show and couldn't finish watching.  It had some \u001b[91mgood\u001b[0m actors but it just wasn't very interesting.\n",
      "ng suited for his best work. I had hoped for some \u001b[91mgood\u001b[0m music and some drama and received only a lous\n",
      "show before turning it off.  Seemed like it was a \u001b[91mgood\u001b[0m idea when I read about it but the language wa\n",
      "ly dumb and annoying. It seems no one can write a \u001b[91mgood\u001b[0m, smart comedy anymore. Too bad. I like the le\n",
      "just never got any better.  How is it getting the \u001b[91mgood\u001b[0m reviews?  Mystery to me.  Got to be mighty bo\n",
      ". Seriously? I can't brush my teeth right after a \u001b[91mgood\u001b[0m jet lag.Now as he starts to play, he gets the\n",
      "r you can forget it.  What she does sing from the \u001b[91mgood\u001b[0m ole' days is butchered to the new PINK style.\n",
      "Didn't laugh ONCE! Story was TERRIBLE. Acting was \u001b[91mgood\u001b[0m- it was a waste of the actor's talent.\n",
      "n't earn that title with this performance. She is \u001b[91mgood\u001b[0m, OK, acceptable, but because she has to play \n",
      " zombie action keep moving, if you're expecting a \u001b[91mgood\u001b[0m movie period keep moving. Folks please do not\n",
      "\u001b[91mgood\u001b[0mness, this show is bad. I thought maybe becaus\n",
      "falls for  gladiator (of course).Action scenes -  \u001b[91mgood\u001b[0m gladiators defeat dozens of Romans as brunch \n",
      " it off after 30 minutes. But I can honestly feel \u001b[91mgood\u001b[0m about myself for doing so in that I saved an \n",
      "all on deaf ears. So STFU in advance also. Have a \u001b[91mgood\u001b[0m one : )\n",
      " she can run around helping people in between the \u001b[91mgood\u001b[0m guys messing things up.The writing is on par \n",
      " think that the brand J.J. Abrams meant something \u001b[91mgood\u001b[0m. Now I guess it means that he is being well p\n",
      "\u001b[91mGood\u001b[0m guys, bad guys and a little girl who could be\n",
      " thinking the great idea would just MAKE the show \u001b[91mgood\u001b[0m. Sloppy. Lazy.The young actress is good. She \n",
      "\u001b[91mgood\u001b[0m. The fact that the only people sent down are \n",
      "like this series at all- very corny!  Story was a \u001b[91mgood\u001b[0m idea-Poor translation.  The actors were awful\n",
      "\u001b[91mgood\u001b[0m as Volume 1.  It was cringe-worthy, not enter\n",
      "\u001b[91mgood\u001b[0m documentaries takes serious courage but when \n",
      "re the movie begins.It does some things which are \u001b[91mgood\u001b[0m, like show you the hint of a creature in refl\n",
      "ilms like this, no one will again trust a film is \u001b[91mgood\u001b[0m just because she is in it.\n",
      "power no tect, her only job was to pickup men, as \u001b[91mgood\u001b[0m looking as she is, had a hard time doing that\n",
      "sn't the sharpest tool in the shed, but she had a \u001b[91mgood\u001b[0m heart (more than can be said of Heather), and\n",
      "Melanie's husband Patrick (Joe Swanberg) is not a \u001b[91mgood\u001b[0m father. He's more infatuated with trying to c\n",
      "eactions between the two would have made for some \u001b[91mgood\u001b[0m laughs.The problem is that I don't see how th\n",
      " I hate is how the cops are portrayed as the &#34;\u001b[91mgood\u001b[0m guys&#34;.\n",
      " accent which hampers him because it isn't a very \u001b[91mgood\u001b[0m one and doing it seems to take up the brain p\n",
      "\u001b[91mgood\u001b[0m story. Starts out slow and get even slower. A\n",
      "). It's horrible. And to think Dean Norris was so \u001b[91mgood\u001b[0m in Breaking Bad. So when's the next season of\n",
      "b potentates, the potential for political reform, \u001b[91mgood\u001b[0m son vs. bad son, etc.  Bummer.  Could've been\n",
      "Paul Rudd, on the other hand, has the leading man \u001b[91mgood\u001b[0m looks but he isn't capable of elevating weak \n"
     ]
    }
   ],
   "source": [
    "v_bad_indices = movies_tv['overall'] < 1.1\n",
    "v_bad_reviews = movies_tv[v_bad_indices]\n",
    "\n",
    "RED_START = \"\\033[91m\"\n",
    "END = \"\\033[0m\"\n",
    "\n",
    "good_word_bad_review = [rev for rev in v_bad_reviews['reviewText'] if 'good' in rev.lower()]\n",
    "\n",
    "print(len(good_word_bad_review))\n",
    "for rev in good_word_bad_review[:1000]:\n",
    "    good_i = rev.lower().index(\"good\")\n",
    "\n",
    "    # adicionamos los codigos Ansi para hacer un highlight a los matches\n",
    "    print(rev[good_i-50: good_i] + RED_START + rev[good_i:good_i+4] + END + rev[good_i+4:good_i +50])"
   ]
  },
  {
   "cell_type": "markdown",
   "metadata": {
    "id": "Oe7rIBh4A5RL"
   },
   "source": [
    "Vemos que \"bueno\" se usa de diferentes maneras en las críticas negativas. Por ejemplo:\n",
    "\n",
    "1. A veces, el revisor señala algo que es realmente bueno, antes de decir que esto no compensa problemas más importantes.\n",
    "2. A veces, el crítico dice que algo bueno no está presente, ya que \"casi todo lo que he visto hasta ahora no se parece al buen cine de ninguna manera\".\n",
    "3. De vez en cuando, la palabra \"bueno\" se refiere a la moralidad."
   ]
  },
  {
   "cell_type": "markdown",
   "metadata": {
    "id": "BlL4z7q1BCOr"
   },
   "source": [
    "Revise la lista de malas críticas que contienen la palabra \"buena\" que encontramos en la última pregunta. Para cada revisión, extraiga lo siguiente:\n",
    "\n",
    "1. La primera palabra después de \"good\"\n",
    "2. La primera palabra después de \"good\" que es un sustantivo o cardinal\n",
    "3. La última palabra antes de \"good\" que es un sustantivo o cardinal"
   ]
  },
  {
   "cell_type": "code",
   "execution_count": null,
   "metadata": {
    "colab": {
     "base_uri": "https://localhost:8080/"
    },
    "executionInfo": {
     "elapsed": 35,
     "status": "ok",
     "timestamp": 1677621556268,
     "user": {
      "displayName": "Luis Ignacio Russo Locati",
      "userId": "15672299700269598283"
     },
     "user_tz": 180
    },
    "id": "Ox6fskAkBGvn",
    "outputId": "5d86f55e-8673-42cf-ae02-8d7d89aed9de"
   },
   "outputs": [
    {
     "name": "stdout",
     "output_type": "stream",
     "text": [
      "['the', 'but', 'for', 'plot', 'cinema', 'and', 'or', 'and', 'because', 'to']\n"
     ]
    }
   ],
   "source": [
    "# PArte i\n",
    "import re\n",
    "\n",
    "post_good = []\n",
    "for sentence in good_word_bad_review:\n",
    "    \n",
    "    # extraer la palabra seguida de good. Hacemos un strip de caracteres \n",
    "    post = re.search(\"good.?\\W*(\\w+).*\\s?\", sentence, re.IGNORECASE)\n",
    "    \n",
    "    # si good es la ultima palabra en el review no habra palabra\n",
    "    # despues de ella\n",
    "    if post:\n",
    "        post_good.append(post.groups()[0])\n",
    "    \n",
    "post_good = [i for i in post_good if i] \n",
    "print(post_good[0:10])"
   ]
  },
  {
   "cell_type": "code",
   "execution_count": null,
   "metadata": {
    "colab": {
     "base_uri": "https://localhost:8080/"
    },
    "executionInfo": {
     "elapsed": 12348,
     "status": "ok",
     "timestamp": 1677621568613,
     "user": {
      "displayName": "Luis Ignacio Russo Locati",
      "userId": "15672299700269598283"
     },
     "user_tz": 180
    },
    "id": "t-0xN0bdBf67",
    "outputId": "6f710b95-af09-46d0-9b3b-8f9747b2336e"
   },
   "outputs": [
    {
     "name": "stderr",
     "output_type": "stream",
     "text": [
      "[nltk_data] Downloading package averaged_perceptron_tagger to\n",
      "[nltk_data]     /root/nltk_data...\n",
      "[nltk_data]   Unzipping taggers/averaged_perceptron_tagger.zip.\n"
     ]
    },
    {
     "name": "stdout",
     "output_type": "stream",
     "text": [
      "['story', 'scene', 'plot', 'cinema', 'history', 'benefit', 'scenes.To', 'filmmaker', 'extent', 'review']\n"
     ]
    }
   ],
   "source": [
    "# Parte ii\n",
    "nltk.download('averaged_perceptron_tagger')\n",
    "good_pos = ['CD', 'FW', 'NN', 'NNS', 'NNP', 'NNPS']\n",
    "\n",
    "def extract_interesting(sentence, good):\n",
    "    words = nltk.word_tokenize(sentence)\n",
    "    interesting = [k for k, v in nltk.pos_tag(words) if v in good]\n",
    "    return(interesting)\n",
    "\n",
    "# Usamos esto para definir una nueva funcion para la proxima palabra interesante\n",
    "def next_word2(sentence):\n",
    "    post = re.findall(r'good.*', sentence)\n",
    "    if len(post) > 0:\n",
    "        interesting = extract_interesting(post[0], good_pos)\n",
    "        if (len(interesting) > 0):\n",
    "            return(interesting[0])\n",
    "        else:\n",
    "            return('')\n",
    "    else:\n",
    "        return('')\n",
    "    \n",
    "# Finalmente, buscamos en nuestra lista \n",
    "post_good2 = []\n",
    "\n",
    "for sentence in good_word_bad_review[:1000]:\n",
    "    temp = next_word2(sentence)\n",
    "    post_good2.append(temp)\n",
    "    \n",
    "post_good2 = [i for i in post_good2 if i] \n",
    "print(post_good2[0:10])\n"
   ]
  },
  {
   "cell_type": "code",
   "execution_count": null,
   "metadata": {
    "colab": {
     "base_uri": "https://localhost:8080/"
    },
    "executionInfo": {
     "elapsed": 18180,
     "status": "ok",
     "timestamp": 1677621586778,
     "user": {
      "displayName": "Luis Ignacio Russo Locati",
      "userId": "15672299700269598283"
     },
     "user_tz": 180
    },
    "id": "zef1QlGQB0Qk",
    "outputId": "c35f5a03-eb42-4ccb-fb43-c36140db0f91"
   },
   "outputs": [
    {
     "name": "stdout",
     "output_type": "stream",
     "text": [
      "['acting', 'transfer', 'story', 'everything', 'acting', 'nothing', 'flashbacks', 'symbol', '.They', 'film']\n"
     ]
    }
   ],
   "source": [
    "# parte III\n",
    "# funcion para extraer palabras antes  de que parezca la palabra \"good\"\n",
    "\n",
    "def prev_word(sentence):\n",
    "    post = re.findall(r'.*?good', sentence)\n",
    "    if (len(post) > 0):\n",
    "        temp = extract_interesting(post[0],good_pos)\n",
    "        if (len(temp) > 0):\n",
    "            return(temp[len(temp)-1])\n",
    "        else:\n",
    "            return('')\n",
    "    else:\n",
    "        return('')\n",
    "    \n",
    "# Encontramos nuestra lista\n",
    "pre_good = []\n",
    "for sentence in good_word_bad_review[:1000]:\n",
    "    temp = prev_word(sentence)\n",
    "    pre_good.append(temp)\n",
    "    \n",
    "pre_good = [i for i in pre_good if i] \n",
    "print(pre_good[0:10])"
   ]
  },
  {
   "cell_type": "markdown",
   "metadata": {
    "id": "lhJCA3kSCIeO"
   },
   "source": [
    "# n-grams"
   ]
  },
  {
   "cell_type": "markdown",
   "metadata": {
    "id": "AUNEEr2eCMnc"
   },
   "source": [
    "Hemos visto que las palabras individuales no siempre son muy informativas. Busque los bigramas y trigramas más informativos, tanto en reseñas positivas como negativas. Muestre los bigramas y trigramas más informativos y haga un breve análisis de los n-gramas que identificó."
   ]
  },
  {
   "cell_type": "code",
   "execution_count": null,
   "metadata": {
    "id": "Xgg26Y63CJ1Y"
   },
   "outputs": [],
   "source": [
    "def get_top_n_words(corpus, n=1, k=1):\n",
    "    vec = CountVectorizer(ngram_range=(k,k),stop_words = 'english').fit(corpus)\n",
    "    bag_of_words = vec.transform(corpus)\n",
    "    sum_words = bag_of_words.sum(axis=0) \n",
    "    words_freq = [(word, sum_words[0, idx]) for word, idx in vec.vocabulary_.items()]\n",
    "    words_freq = sorted(words_freq, key=lambda x: x[1], reverse=True)\n",
    "    return words_freq[:n]"
   ]
  },
  {
   "cell_type": "code",
   "execution_count": null,
   "metadata": {
    "colab": {
     "base_uri": "https://localhost:8080/"
    },
    "executionInfo": {
     "elapsed": 75912,
     "status": "ok",
     "timestamp": 1677621662678,
     "user": {
      "displayName": "Luis Ignacio Russo Locati",
      "userId": "15672299700269598283"
     },
     "user_tz": 180
    },
    "id": "jlvxTUMZCQUT",
    "outputId": "fa7ce7b0-8f2c-4b37-851b-8f4d3913b3ee"
   },
   "outputs": [
    {
     "name": "stdout",
     "output_type": "stream",
     "text": [
      "blu ray 6714\n",
      "great movie 4300\n",
      "ve seen 3895\n",
      "special effects 3830\n",
      "good movie 2669\n",
      "love movie 2509\n",
      "sci fi 2246\n",
      "years ago 2191\n",
      "movie great 2152\n",
      "quot quot 1935\n",
      "black white 1927\n",
      "special features 1874\n",
      "watch movie 1853\n",
      "don know 1824\n",
      "highly recommend 1812\n",
      "year old 1799\n",
      "seen movie 1774\n",
      "new york 1720\n",
      "great film 1683\n",
      "real life 1471\n"
     ]
    },
    {
     "data": {
      "text/plain": [
       "<AxesSubplot:title={'center':'Top 20 bigrams from good reviews'}, xlabel='words'>"
      ]
     },
     "execution_count": 34,
     "metadata": {},
     "output_type": "execute_result"
    },
    {
     "data": {
      "image/png": "[encoded data removed]",
      "text/plain": [
       "<Figure size 432x288 with 1 Axes>"
      ]
     },
     "metadata": {
      "needs_background": "light"
     },
     "output_type": "display_data"
    }
   ],
   "source": [
    "# Bigramas con buenas revisiones\n",
    "common_words = get_top_n_words(good_reviews['reviewText'], 20, 2)\n",
    "for word, freq in common_words:\n",
    "    print(word, freq)\n",
    "\n",
    "df = pd.DataFrame(common_words, columns=['words', 'count'])\n",
    "df.groupby('words').sum()['count'].sort_values(ascending=False).plot(\n",
    "    kind='bar', title='Top 20 bigrams from good reviews'\n",
    ")"
   ]
  },
  {
   "cell_type": "code",
   "execution_count": null,
   "metadata": {
    "colab": {
     "base_uri": "https://localhost:8080/"
    },
    "executionInfo": {
     "elapsed": 98165,
     "status": "ok",
     "timestamp": 1677621760820,
     "user": {
      "displayName": "Luis Ignacio Russo Locati",
      "userId": "15672299700269598283"
     },
     "user_tz": 180
    },
    "id": "lNG-b1jnCUNE",
    "outputId": "de1e4a78-30ce-46b5-a988-280e16a3363c"
   },
   "outputs": [
    {
     "name": "stdout",
     "output_type": "stream",
     "text": [
      "tommy lee jones 779\n",
      "nightmare elm street 640\n",
      "does great job 467\n",
      "world war ii 456\n",
      "did great job 433\n",
      "new york city 427\n",
      "blu ray version 412\n",
      "ve seen movie 383\n",
      "highly recommend movie 350\n",
      "based true story 344\n",
      "blu ray release 316\n",
      "does good job 310\n",
      "did good job 283\n",
      "country old men 273\n",
      "special edition dvd 265\n",
      "movie ve seen 262\n",
      "dvd blu ray 251\n",
      "haven seen movie 250\n",
      "movies ve seen 247\n",
      "does excellent job 216\n"
     ]
    },
    {
     "data": {
      "text/plain": [
       "<AxesSubplot:title={'center':'Top 20 trigrams from good reviews'}, xlabel='words'>"
      ]
     },
     "execution_count": 35,
     "metadata": {},
     "output_type": "execute_result"
    },
    {
     "data": {
      "image/png": "[encoded data removed]",
      "text/plain": [
       "<Figure size 432x288 with 1 Axes>"
      ]
     },
     "metadata": {
      "needs_background": "light"
     },
     "output_type": "display_data"
    }
   ],
   "source": [
    "# trigramas para buenas revisiones\n",
    "common_words = get_top_n_words(good_reviews['reviewText'], 20, 3)\n",
    "for word, freq in common_words:\n",
    "    print(word, freq)\n",
    "\n",
    "df = pd.DataFrame(common_words, columns=['words', 'count'])\n",
    "df.groupby('words').sum()['count'].sort_values(ascending=False).plot(\n",
    "    kind='bar', title='Top 20 trigrams from good reviews'\n",
    ")"
   ]
  },
  {
   "cell_type": "markdown",
   "metadata": {
    "id": "0quncLnvCcq_"
   },
   "source": [
    "Algunos de los bigramas y trigramas están claramente relacionados con el tema, pero no necesariamente con buenas críticas. Por ejemplo, \"blu ray\", \"lanzamiento de blu ray\", \"tommy lee jones\", \"historia real basada\".\n",
    "\n",
    "Otros están más obviamente relacionados específicamente con buenas críticas, como \"hace un trabajo excelente\", \"muy recomendable\", \"gran película\"."
   ]
  },
  {
   "cell_type": "markdown",
   "metadata": {
    "id": "J4MSpAh3CslN"
   },
   "source": [
    "Las palabras importantes como \"bueno\" (así como las que aparecen en los otros n-gramas anteriores) tienden a ser adjetivos. Los adjetivos describen sustantivos. Más específicamente, un adjetivo casi siempre describe el sustantivo que le sigue y que está más cerca de él en una oración. A veces los adjetivos no van directamente después. Por ejemplo, \"Esta fue una película buena e interesante\" todavía tiene \"buena\" y \"película\" vinculadas.\n",
    "\n",
    "Esto sugiere que podemos usar el etiquetado POS para extraer las ubicaciones de los adjetivos y sustantivos, luego iterar a través de todos los adjetivos y contar hacia adelante desde cada uno hasta llegar al siguiente sustantivo. Estas son nuestras palabras informativas."
   ]
  },
  {
   "cell_type": "markdown",
   "metadata": {
    "id": "kxFDQ00oC0i7"
   },
   "source": [
    "Escribamos una(s) función(es) que transforme una oración en una nueva lista de texto emparejando iterativamente cada adjetivo en la oración con el siguiente sustantivo que le sigue en la oración. Por ejemplo, el texto \"Esa fue una película larga y buena\" debería devolver [\"buena película\", \"película larga\"]."
   ]
  },
  {
   "cell_type": "code",
   "execution_count": null,
   "metadata": {
    "id": "m7DCJ_OGCZVv"
   },
   "outputs": [],
   "source": [
    "#Hacemos una función que toma el primer adjetivo y su sustantivo asociado, luego devuelve (i) el par y (ii) una oración más corta.\n",
    "def grab_first_pair(sentence):\n",
    "    words = nltk.word_tokenize(sentence)\n",
    "    adjectives = [k for k, v in nltk.pos_tag(words) if v == 'JJ']\n",
    "    if(len(adjectives) > 0):\n",
    "        shorter = re.findall(adjectives[0] +'.*',sentence)[0]        \n",
    "        words2 = nltk.word_tokenize(shorter)\n",
    "        nouns = [k for k,v in nltk.pos_tag(words) if v == 'NN']\n",
    "        if(len(nouns) > 0):\n",
    "            shorter = shorter.split(' ', 1)[1]\n",
    "            return(adjectives[0], nouns[0], shorter)\n",
    "    return('', '', '')\n",
    "\n",
    "# Creamos una funcion que use la anterior para iterar en las oraciones\n",
    "def grab_all_pairs(sentence):\n",
    "    pairs = []\n",
    "    noun = ''\n",
    "    adj =''\n",
    "    while(len(sentence) > 0):\n",
    "        adj, noun, sentence = grab_first_pair(sentence)\n",
    "        if(adj != ''):\n",
    "            pairs.append(adj + ' ' + noun)\n",
    "    return(pairs)\n",
    "\n",
    "#Creamos una funcion que itere por muchas oraciones luego de tokenizar\n",
    "def make_pair_list(corpus):\n",
    "    sentences = nltk.sent_tokenize(BigRev)\n",
    "    pairs = []\n",
    "    for sentence in sentences:\n",
    "        pairs.extend(grab_all_pairs(sentence))"
   ]
  },
  {
   "cell_type": "code",
   "execution_count": null,
   "metadata": {
    "colab": {
     "base_uri": "https://localhost:8080/"
    },
    "executionInfo": {
     "elapsed": 15,
     "status": "ok",
     "timestamp": 1677621760821,
     "user": {
      "displayName": "Luis Ignacio Russo Locati",
      "userId": "15672299700269598283"
     },
     "user_tz": 180
    },
    "id": "fmApcsPIDNPh",
    "outputId": "1ae1a720-c8ab-4468-f043-0ccaabfa685e"
   },
   "outputs": [
    {
     "name": "stdout",
     "output_type": "stream",
     "text": [
      "('big', 'dog', 'black dog scared the red cat.')\n",
      "['big dog', 'black dog', 'red dog', 'red cat']\n"
     ]
    }
   ],
   "source": [
    "sentence = \"The big black dog scared the red cat.\"\n",
    "print(grab_first_pair(sentence))\n",
    "print(grab_all_pairs(sentence))"
   ]
  }
 ],
 "metadata": {
  "colab": {
   "provenance": []
  },
  "kernelspec": {
   "display_name": "deep01",
   "language": "python",
   "name": "python3"
  },
  "language_info": {
   "codemirror_mode": {
    "name": "ipython",
    "version": 3
   },
   "file_extension": ".py",
   "mimetype": "text/x-python",
   "name": "python",
   "nbconvert_exporter": "python",
   "pygments_lexer": "ipython3",
   "version": "3.11.10"
  }
 },
 "nbformat": 4,
 "nbformat_minor": 0
}
